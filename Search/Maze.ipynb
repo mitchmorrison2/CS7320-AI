{
 "cells": [
  {
   "cell_type": "markdown",
   "metadata": {},
   "source": [
    "# Search: Solving a maze\n",
    "\n",
    "Total Points: 10\n",
    "\n",
    "\n",
    "The agent has a map of the maze it is in (i.e., the environment is deterministic, discrete, and known). The agent must use the map to plan a path through the maze from the starting location $S$ to the goal location $G$.  "
   ]
  },
  {
   "cell_type": "markdown",
   "metadata": {},
   "source": [
    "<b>Mitchell Morrison</b> <br>\n",
    "CS 5320 <br>\n",
    "4 October 2020"
   ]
  },
  {
   "cell_type": "markdown",
   "metadata": {},
   "source": [
    "__Notes:__ \n",
    "* This is a planing exercise, so you do not need to implement an environment, just use the map to search for a path. Once the plan is made, the agent can just follow the path and does not need percepts. The execution phase is trivial and we do not implement it in this exercise.\n",
    "* Tree search algorithm implementations that you find online have often a different aim. The algorithms assume that you already have a tree and the goal is to traverse all nodes. We are interested in dynamically creating a search tree with the aim of finding a good/the best path to the goal state. Ideally, we would like to search only a small part of the maze, i.e., create a search tree with as few nodes as possible. \n",
    "* Some mazes may contain cycles and therefore not form proper trees unless cycles are prevented. \n",
    "\n",
    "## Parsing and pretty printing the maze\n",
    "\n",
    "The maze can also be displayed in color using code in the file [maze_helper.py](maze_helper.py). The code parses the string representing the maze and converts it into a `numpy` 2d array which you can use in your implementation."
   ]
  },
  {
   "cell_type": "code",
   "execution_count": 4,
   "metadata": {
    "scrolled": true
   },
   "outputs": [],
   "source": [
    "%run maze_helper.py\n",
    "\n",
    "\n",
    "# maze = parse_maze(maze_str)\n",
    "\n",
    "# # look at two positions in the maze\n",
    "# print(\"Position(0,0):\", maze[0, 0])\n",
    "\n",
    "# # there is also a helper function called `look(maze, pos)`\n",
    "# print(\"Position(8,1):\", look(maze, [8, 1]))\n",
    "\n",
    "# find_pos(maze, 'S')\n"
   ]
  },
  {
   "cell_type": "markdown",
   "metadata": {},
   "source": [
    "Visualize the maze"
   ]
  },
  {
   "cell_type": "code",
   "execution_count": 8,
   "metadata": {},
   "outputs": [],
   "source": [
    "#show_maze(maze)"
   ]
  },
  {
   "cell_type": "markdown",
   "metadata": {},
   "source": [
    "Find the position of the start and the goal using the helper function `find_pos()`"
   ]
  },
  {
   "cell_type": "code",
   "execution_count": 9,
   "metadata": {},
   "outputs": [],
   "source": [
    "#print(\"Start location:\", find_pos(maze, what = \"S\"))\n",
    "#print(\"Goal location:\", find_pos(maze, what = \"G\"))"
   ]
  },
  {
   "cell_type": "markdown",
   "metadata": {},
   "source": [
    "## Tree structures\n",
    "\n",
    "A basic tree implementation in Python is available at https://github.com/yoyzhou/pyTree (found by John Park).\n"
   ]
  },
  {
   "cell_type": "markdown",
   "metadata": {},
   "source": [
    "# Tasks\n",
    "\n",
    "Implement the following search algorithms for solving different mazes:\n",
    "\n",
    "* Breadth-first search (BFS)\n",
    "* Depth-first search (DFS)\n",
    "* Iterative deepening search (IDS)\n",
    "* Greedy best-first search (GBFS)\n",
    "* A* search\n",
    "\n",
    "Run each of the above algorithms on the \n",
    "[small maze](small_maze.txt), \n",
    "[medium maze](medium_maze.txt), \n",
    "[large maze](large_maze.txt), \n",
    "[open maze](open_maze.txt),\n",
    "[empty maze](empty_maze.txt), \n",
    "[wall maze](wall_maze.txt), \n",
    "and the \n",
    "[loops maze](loops_maze.txt). \n",
    "For each problem instance and each search algorithm, report the following in a table:\n",
    "\n",
    "* The solution and its path cost\n",
    "* Number of nodes expanded\n",
    "* Maximum tree depth searched\n",
    "* Maximum size of the frontier.\n",
    "\n",
    "Display each solution by marking every maze square (or state) visited and the squares on the final path."
   ]
  },
  {
   "cell_type": "markdown",
   "metadata": {},
   "source": [
    "## Task 1: Defining the search Problem [1 point]\n",
    "\n",
    "Define the components of the search problem:\n"
   ]
  },
  {
   "cell_type": "markdown",
   "metadata": {},
   "source": [
    "<b>Initial state: </b>starting location specified in the maze string by the letter 'S' <br/>\n",
    "<b>Actions:</b> can travel left, right, up, and down as specified by adding to the x or y values of the current location <br/>\n",
    "<b>Transition Model:</b> Actions have their expected affects, except if the action brings the current location into a wall or if it attempts to move into an already visited node it will not execute.<br/>\n",
    "<b>Goal State: </b>attempt to reach this location on the maze specified in the maze string by the letter 'G'<br/>\n",
    "<b>Path cost: </b>all actions have a cost of 1. We will explore minimizing this cost through different search <br/>algorithms"
   ]
  },
  {
   "cell_type": "markdown",
   "metadata": {},
   "source": [
    "## Task 2: Breadth-first, Depth-first and iterative deepening search [4 points]\n",
    "\n",
    "Implement these search strategies. You can implement a generic tree search following the BFS pseudo-code in your textbook and then just adapt the order in which the frontier is explored."
   ]
  },
  {
   "cell_type": "code",
   "execution_count": 265,
   "metadata": {
    "scrolled": true
   },
   "outputs": [],
   "source": [
    "import numpy as np\n",
    "import pandas as pd\n",
    "from pyTree.Tree import Tree as Tree\n",
    "import matplotlib.pyplot as plt\n",
    "from matplotlib import colors\n",
    "import time\n",
    "\n",
    "\n",
    "class Search():\n",
    "    def __init__(self, search_type, verbose=True):\n",
    "        ''' initialize variables for search '''\n",
    "        self.search_type = search_type\n",
    "        self.tree = None \n",
    "        self.maze = None \n",
    "        self.path = None\n",
    "        self.goal = None\n",
    "        self.start = None\n",
    "        self.frontier = None\n",
    "        self.frontierMax = 0 # largest size of frontier list\n",
    "        self.max_depth = 0 # current max depth, updated for IDS\n",
    "        self.visited = set() # set of locations visited\n",
    "        self.deepestVisited = 0 # deepest amount of layers visited\n",
    "        self.verbose = verbose\n",
    "    \n",
    "    def maze_to_int(self, maze):\n",
    "        ''' tranform string to maze identifiable by ints for specific types'''\n",
    "        # code from helper file\n",
    "        maze = maze.split('\\n')\n",
    "        maze = np.array([[tile for tile in row] for row in maze if len(row) > 0])\n",
    "        maze[maze == ' '] = 0  # open space\n",
    "        maze[maze == 'X'] = 1  # wall\n",
    "        maze[maze == 'S'] = 2  # start\n",
    "        maze[maze == 'G'] = 3  # goal\n",
    "        maze = maze.astype(int)\n",
    "        return maze\n",
    "    \n",
    "    def show_maze(self, maze):  \n",
    "        \"\"\"display a maze (numpy array)\"\"\"\n",
    "        # code from helper file\n",
    "        cmap = colors.ListedColormap(['white', 'black', 'blue', 'green', 'red', 'gray'])\n",
    "        bounds = [0, 1, 2, 3, 4, 5, 6]\n",
    "        # make a deep copy first so the original maze is not changed\n",
    "        maze = np.copy(maze)\n",
    "        # gray out visited squares\n",
    "        for loc in self.visited:\n",
    "            maze[loc] = 5\n",
    "        # red out the path to finish\n",
    "        for loc in self.path:\n",
    "            maze[loc] = 4\n",
    "        s = self.start\n",
    "        e = self.goal\n",
    "        maze[s] = 2\n",
    "        maze[e] = 3\n",
    "        maze = maze.astype(np.int)\n",
    "\n",
    "        norm = colors.BoundaryNorm(bounds, cmap.N)\n",
    "\n",
    "        fig, ax = plt.subplots()\n",
    "        ax.imshow(maze, cmap=cmap, norm=norm)\n",
    "\n",
    "        plt.show()\n",
    "\n",
    "    def get_start(self):\n",
    "        ''' return start state location '''\n",
    "        return np.argwhere(self.maze == 2)[0]\n",
    "\n",
    "    def get_goal(self):\n",
    "        ''' return goal state location'''\n",
    "        return np.argwhere(self.maze == 3)[0]\n",
    "    \n",
    "    def get_depth(self, node):\n",
    "        ''' return amount of layers between node and root '''\n",
    "        layers = 0\n",
    "        while not node.isRoot():\n",
    "            node = node.getParent()\n",
    "            if len(node.getChildren()) >= 1:\n",
    "                layers += 1\n",
    "        return layers\n",
    "    \n",
    "    def directions(self, node):\n",
    "        \"\"\" return list of possible moves \"\"\"\n",
    "        loc = node.data\n",
    "        x = loc[1]; y = loc[0]\n",
    "        # remove directions that run into wall\n",
    "        # only return non visited locations\n",
    "        dirs = [\n",
    "            (y, x+1),\n",
    "            (y, x-1),\n",
    "            (y+1, x),\n",
    "            (y-1, x)\n",
    "        ]\n",
    "        # remove visited location options\n",
    "        dirs = [dir for dir in dirs if tuple(dir) not in self.visited]\n",
    "        # remove wall location options\n",
    "        dirs = [dir for dir in dirs if self.maze[dir] != 1]\n",
    "        # return shuffled for fair direction picking\n",
    "        np.random.shuffle(dirs) \n",
    "        return dirs\n",
    "    \n",
    "    def return_route(self, node):\n",
    "        ''' get route back to the root '''\n",
    "        path = []\n",
    "        path.append(node.data)\n",
    "        while not node.isRoot():\n",
    "            node = node.getParent()\n",
    "            path.append(node.data)\n",
    "        return path\n",
    "    \n",
    "    def check_frontier(self, frontier, node):\n",
    "        ''' verify node is not already in frontier '''\n",
    "        for n in frontier:\n",
    "            if list(n.data) == list(node.data):\n",
    "                return False\n",
    "        return True\n",
    "    \n",
    "    def reset_frontier(self):\n",
    "        ''' reset variables for IDS to perform next iteration '''\n",
    "        self.visited = set()\n",
    "        self.tree = Tree(data=self.start)\n",
    "        self.frontier = [self.tree]\n",
    "        self.max_depth += 1\n",
    "    \n",
    "    def manhattan(self, loc):\n",
    "        # calculate list of manhattan distances to start given list of nodes\n",
    "        # sum of x and y distance to the point\n",
    "        goalX = self.goal[1]\n",
    "        goalY = self.goal[0]\n",
    "        return abs(loc[1]-goalX) + abs(loc[0]-goalY)\n",
    "    \n",
    "    def search(self, maze):\n",
    "        ''' conduct search ''' \n",
    "        self.maze = self.maze_to_int(maze)\n",
    "        # show_maze(self.maze) \n",
    "        self.start = tuple(self.get_start())\n",
    "        if self.verbose: print(\"START:\", self.start)\n",
    "        self.goal = tuple(self.get_goal())\n",
    "        if self.verbose: print(\"GOAL:\", self.goal)\n",
    "        tree = Tree(data=self.start)\n",
    "        self.frontier = [tree] # list of nodes\n",
    "        self.max_depth = 1 # depth for IDS\n",
    "        \n",
    "        # run loop until frontier is empty\n",
    "        while len(self.frontier) > 0:\n",
    "            if len(self.frontier) > self.frontierMax:\n",
    "                # store the largest size of the frontier\n",
    "                self.frontierMax = len(self.frontier)\n",
    "            if self.search_type == 'BFS':\n",
    "                # bfs takes from front of frontier - priority queue\n",
    "                node = self.frontier.pop(0)\n",
    "            elif self.search_type == 'DFS' or self.search_type == 'IDS':\n",
    "                # ifs and dfs take from end of list - stack\n",
    "                node = self.frontier.pop(-1)\n",
    "            elif self.search_type == 'GBFS' or self.search_type == 'A*':\n",
    "                # greedy best first search uses manhattan distance to choose from frontier\n",
    "                heuristic = [self.manhattan(node.data) for node in self.frontier]\n",
    "                if self.search_type == 'A*':\n",
    "                    # A* uses same manhattan distance + distance from start\n",
    "                    distsFromStart = [len(self.return_route(node)) for node in self.frontier]\n",
    "                    heuristic = np.add(distsFromStart, heuristic)\n",
    "                node = self.frontier.pop(np.argmin(heuristic))                \n",
    "            else:\n",
    "                print(\"Not an accurate search type\")\n",
    "                return\n",
    "            \n",
    "            self.visited.add(tuple(node.data))\n",
    "            dirs = self.directions(node)\n",
    "            # add node in each returned direction to frontier\n",
    "            for loc in dirs:\n",
    "                # if location is empty and not in frontier then visit\n",
    "                if self.maze[loc] == 0 and self.check_frontier(self.frontier, node): \n",
    "                    # add new child node to tree\n",
    "                    child = Tree(data=loc)\n",
    "                    node.addChild(child) \n",
    "                    if self.get_depth(child) > self.deepestVisited:\n",
    "                        self.deepestVisited = self.get_depth(child)\n",
    "                    if self.search_type == \"IDS\":\n",
    "                        if self.get_depth(child) <= self.max_depth:\n",
    "                            self.frontier.append(child)\n",
    "                        else:\n",
    "                            # at max depth for the search\n",
    "                            continue\n",
    "                    else: \n",
    "                        self.frontier.append(child) \n",
    "                    \n",
    "                elif self.maze[loc] == 3 and self.check_frontier(self.frontier, node):\n",
    "                    child = Tree(data=loc)\n",
    "                    node.addChild(child)\n",
    "                    self.path = self.return_route(child)\n",
    "                    if self.get_depth(child) > self.deepestVisited:\n",
    "                        self.deepestVisited = self.get_depth(child)\n",
    "                    if self.verbose:\n",
    "    #                     print(\"PATH TO GOAL:\", self.path)\n",
    "                        print(\"PATH TO GOAL LENGTH:\", len(self.path))\n",
    "                        print(\"MAX FRONTIER SIZE:\", self.frontierMax)\n",
    "                        print(\"DEEPEST LAYER VISITED:\", self.deepestVisited)\n",
    "                        print(\"NODES EXPANDED:\", len(self.visited))\n",
    "                        self.show_maze(self.maze)\n",
    "                    return [len(self.path), self.frontierMax, self.deepestVisited, len(self.visited)], self.path\n",
    "           # print(\"Frontier: \", [i.data for i in self.frontier])\n",
    "            \n",
    "            if len(self.frontier) == 0:\n",
    "                # if frontier is empty in IDS reset contents\n",
    "                # this if block could cause issues if there is no path to finish and could loop forever\n",
    "                self.reset_frontier()      "
   ]
  },
  {
   "cell_type": "code",
   "execution_count": 261,
   "metadata": {
    "scrolled": false
   },
   "outputs": [
    {
     "name": "stdout",
     "output_type": "stream",
     "text": [
      "START: (3, 11)\n",
      "GOAL: (8, 1)\n",
      "PATH TO GOAL LENGTH: 20\n",
      "MAX FRONTIER SIZE: 9\n",
      "DEEPEST LAYER VISITED: 19\n",
      "NODES EXPANDED: 90\n"
     ]
    },
    {
     "data": {
      "image/png": "[encoded data removed]",
      "text/plain": [
       "<Figure size 432x288 with 1 Axes>"
      ]
     },
     "metadata": {
      "needs_background": "light"
     },
     "output_type": "display_data"
    },
    {
     "name": "stdout",
     "output_type": "stream",
     "text": [
      "START: (1, 34)\n",
      "GOAL: (16, 1)\n",
      "PATH TO GOAL LENGTH: 69\n",
      "MAX FRONTIER SIZE: 9\n",
      "DEEPEST LAYER VISITED: 68\n",
      "NODES EXPANDED: 267\n"
     ]
    },
    {
     "data": {
      "image/png": "[encoded data removed]",
      "text/plain": [
       "<Figure size 432x288 with 1 Axes>"
      ]
     },
     "metadata": {
      "needs_background": "light"
     },
     "output_type": "display_data"
    },
    {
     "name": "stdout",
     "output_type": "stream",
     "text": [
      "START: (35, 35)\n",
      "GOAL: (35, 1)\n",
      "PATH TO GOAL LENGTH: 211\n",
      "MAX FRONTIER SIZE: 8\n",
      "DEEPEST LAYER VISITED: 210\n",
      "NODES EXPANDED: 616\n"
     ]
    },
    {
     "data": {
      "image/png": "[encoded data removed]",
      "text/plain": [
       "<Figure size 432x288 with 1 Axes>"
      ]
     },
     "metadata": {
      "needs_background": "light"
     },
     "output_type": "display_data"
    },
    {
     "name": "stdout",
     "output_type": "stream",
     "text": [
      "START: (1, 35)\n",
      "GOAL: (21, 1)\n",
      "PATH TO GOAL LENGTH: 55\n",
      "MAX FRONTIER SIZE: 45\n",
      "DEEPEST LAYER VISITED: 54\n",
      "NODES EXPANDED: 681\n"
     ]
    },
    {
     "data": {
      "image/png": "[encoded data removed]",
      "text/plain": [
       "<Figure size 432x288 with 1 Axes>"
      ]
     },
     "metadata": {
      "needs_background": "light"
     },
     "output_type": "display_data"
    },
    {
     "name": "stdout",
     "output_type": "stream",
     "text": [
      "START: (9, 2)\n",
      "GOAL: (2, 9)\n",
      "PATH TO GOAL LENGTH: 15\n",
      "MAX FRONTIER SIZE: 20\n",
      "DEEPEST LAYER VISITED: 14\n",
      "NODES EXPANDED: 94\n"
     ]
    },
    {
     "data": {
      "image/png": "[encoded data removed]",
      "text/plain": [
       "<Figure size 432x288 with 1 Axes>"
      ]
     },
     "metadata": {
      "needs_background": "light"
     },
     "output_type": "display_data"
    },
    {
     "name": "stdout",
     "output_type": "stream",
     "text": [
      "START: (9, 2)\n",
      "GOAL: (2, 9)\n",
      "PATH TO GOAL LENGTH: 15\n",
      "MAX FRONTIER SIZE: 18\n",
      "DEEPEST LAYER VISITED: 14\n",
      "NODES EXPANDED: 85\n"
     ]
    },
    {
     "data": {
      "image/png": "[encoded data removed]",
      "text/plain": [
       "<Figure size 432x288 with 1 Axes>"
      ]
     },
     "metadata": {
      "needs_background": "light"
     },
     "output_type": "display_data"
    },
    {
     "name": "stdout",
     "output_type": "stream",
     "text": [
      "START: (10, 1)\n",
      "GOAL: (1, 1)\n",
      "PATH TO GOAL LENGTH: 24\n",
      "MAX FRONTIER SIZE: 10\n",
      "DEEPEST LAYER VISITED: 23\n",
      "NODES EXPANDED: 71\n"
     ]
    },
    {
     "data": {
      "image/png": "[encoded data removed]",
      "text/plain": [
       "<Figure size 432x288 with 1 Axes>"
      ]
     },
     "metadata": {
      "needs_background": "light"
     },
     "output_type": "display_data"
    },
    {
     "name": "stdout",
     "output_type": "stream",
     "text": [
      "                small  medium  large   open  empty   wall  loops\n",
      "PATH COST        20.0    69.0  211.0   55.0   15.0   15.0   24.0\n",
      "MAX FRONTIER      9.0     9.0    8.0   45.0   20.0   18.0   10.0\n",
      "DEEPEST LAYER    19.0    68.0  210.0   54.0   14.0   14.0   23.0\n",
      "NODES EXPANDED   90.0   267.0  616.0  681.0   94.0   85.0   71.0\n",
      "TIME (ms)       182.4   204.5  238.8  238.0  173.0  182.9  180.8\n",
      "\n",
      " ALL PATHS:\n",
      "('small', [(8, 1), (8, 2), (8, 3), (8, 4), (8, 5), (8, 6), (8, 7), (8, 8), (8, 9), (8, 10), (7, 10), (7, 11), (7, 12), (6, 12), (5, 12), (5, 13), (4, 13), (3, 13), (3, 12), (3, 11)])\n",
      "('medium', [(16, 1), (16, 2), (16, 3), (16, 4), (16, 5), (16, 6), (16, 7), (16, 8), (16, 9), (16, 10), (15, 10), (15, 11), (15, 12), (15, 13), (15, 14), (15, 15), (15, 16), (15, 17), (15, 18), (15, 19), (15, 20), (15, 21), (15, 22), (15, 23), (15, 24), (15, 25), (15, 26), (15, 27), (14, 27), (13, 27), (12, 27), (11, 27), (10, 27), (9, 27), (8, 27), (8, 26), (8, 25), (8, 24), (8, 23), (8, 22), (8, 21), (8, 20), (7, 20), (6, 20), (5, 20), (5, 21), (5, 22), (5, 23), (5, 24), (6, 24), (6, 25), (6, 26), (6, 27), (5, 27), (4, 27), (3, 27), (3, 26), (3, 25), (2, 25), (1, 25), (1, 26), (1, 27), (1, 28), (1, 29), (1, 30), (1, 31), (1, 32), (1, 33), (1, 34)])\n",
      "('large', [(35, 1), (34, 1), (33, 1), (33, 2), (33, 3), (32, 3), (31, 3), (30, 3), (29, 3), (29, 4), (29, 5), (28, 5), (27, 5), (27, 4), (27, 3), (26, 3), (25, 3), (24, 3), (23, 3), (23, 4), (23, 5), (22, 5), (21, 5), (20, 5), (19, 5), (19, 4), (19, 3), (18, 3), (17, 3), (16, 3), (15, 3), (14, 3), (13, 3), (12, 3), (11, 3), (10, 3), (9, 3), (9, 4), (9, 5), (9, 6), (9, 7), (9, 8), (9, 9), (9, 10), (9, 11), (9, 12), (9, 13), (8, 13), (7, 13), (7, 12), (7, 11), (6, 11), (5, 11), (4, 11), (3, 11), (3, 12), (3, 13), (3, 14), (3, 15), (2, 15), (1, 15), (1, 16), (1, 17), (1, 18), (1, 19), (1, 20), (1, 21), (2, 21), (3, 21), (4, 21), (5, 21), (6, 21), (7, 21), (8, 21), (9, 21), (9, 20), (9, 19), (9, 18), (9, 17), (9, 16), (9, 15), (10, 15), (11, 15), (12, 15), (13, 15), (14, 15), (15, 15), (15, 14), (15, 13), (16, 13), (17, 13), (17, 14), (17, 15), (17, 16), (17, 17), (17, 18), (17, 19), (17, 20), (17, 21), (17, 22), (17, 23), (17, 24), (17, 25), (18, 25), (19, 25), (19, 26), (19, 27), (18, 27), (17, 27), (16, 27), (15, 27), (15, 28), (15, 29), (14, 29), (13, 29), (12, 29), (11, 29), (10, 29), (9, 29), (9, 30), (9, 31), (9, 32), (9, 33), (8, 33), (7, 33), (7, 34), (7, 35), (8, 35), (9, 35), (10, 35), (11, 35), (12, 35), (13, 35), (14, 35), (15, 35), (16, 35), (17, 35), (17, 34), (17, 33), (17, 32), (17, 31), (18, 31), (19, 31), (20, 31), (21, 31), (22, 31), (23, 31), (23, 30), (23, 29), (22, 29), (21, 29), (21, 28), (21, 27), (22, 27), (23, 27), (23, 26), (23, 25), (23, 24), (23, 23), (24, 23), (25, 23), (25, 22), (25, 21), (24, 21), (23, 21), (23, 20), (23, 19), (23, 18), (23, 17), (23, 16), (23, 15), (24, 15), (25, 15), (26, 15), (27, 15), (28, 15), (29, 15), (29, 16), (29, 17), (30, 17), (31, 17), (31, 16), (31, 15), (32, 15), (33, 15), (33, 16), (33, 17), (33, 18), (33, 19), (33, 20), (33, 21), (33, 22), (33, 23), (33, 24), (33, 25), (33, 26), (33, 27), (33, 28), (33, 29), (32, 29), (31, 29), (31, 30), (31, 31), (32, 31), (33, 31), (33, 32), (33, 33), (33, 34), (33, 35), (34, 35), (35, 35)])\n",
      "('open', [(21, 1), (20, 1), (20, 2), (20, 3), (20, 4), (20, 5), (20, 6), (20, 7), (20, 8), (20, 9), (20, 10), (20, 11), (20, 12), (20, 13), (20, 14), (19, 14), (18, 14), (17, 14), (16, 14), (15, 14), (14, 14), (13, 14), (12, 14), (11, 14), (10, 14), (10, 15), (10, 16), (10, 17), (10, 18), (9, 18), (8, 18), (8, 19), (7, 19), (6, 19), (6, 20), (6, 21), (6, 22), (6, 23), (6, 24), (6, 25), (6, 26), (6, 27), (6, 28), (5, 28), (4, 28), (4, 29), (4, 30), (4, 31), (3, 31), (3, 32), (3, 33), (3, 34), (3, 35), (2, 35), (1, 35)])\n",
      "('empty', [(2, 9), (2, 8), (3, 8), (4, 8), (4, 7), (4, 6), (4, 5), (4, 4), (5, 4), (5, 3), (6, 3), (6, 2), (7, 2), (8, 2), (9, 2)])\n",
      "('wall', [(2, 9), (2, 8), (3, 8), (4, 8), (5, 8), (6, 8), (7, 8), (8, 8), (8, 7), (8, 6), (8, 5), (8, 4), (8, 3), (9, 3), (9, 2)])\n",
      "('loops', [(1, 1), (2, 1), (2, 2), (2, 3), (2, 4), (2, 5), (2, 6), (2, 7), (2, 8), (3, 8), (4, 8), (5, 8), (6, 8), (7, 8), (8, 8), (9, 8), (10, 8), (10, 7), (10, 6), (10, 5), (10, 4), (10, 3), (10, 2), (10, 1)])\n"
     ]
    },
    {
     "data": {
      "text/html": [
       "<div>\n",
       "<style scoped>\n",
       "    .dataframe tbody tr th:only-of-type {\n",
       "        vertical-align: middle;\n",
       "    }\n",
       "\n",
       "    .dataframe tbody tr th {\n",
       "        vertical-align: top;\n",
       "    }\n",
       "\n",
       "    .dataframe thead th {\n",
       "        text-align: right;\n",
       "    }\n",
       "</style>\n",
       "<table border=\"1\" class=\"dataframe\">\n",
       "  <thead>\n",
       "    <tr style=\"text-align: right;\">\n",
       "      <th></th>\n",
       "      <th>small</th>\n",
       "      <th>medium</th>\n",
       "      <th>large</th>\n",
       "      <th>open</th>\n",
       "      <th>empty</th>\n",
       "      <th>wall</th>\n",
       "      <th>loops</th>\n",
       "    </tr>\n",
       "  </thead>\n",
       "  <tbody>\n",
       "    <tr>\n",
       "      <th>PATH COST</th>\n",
       "      <td>20.0</td>\n",
       "      <td>69.0</td>\n",
       "      <td>211.0</td>\n",
       "      <td>55.0</td>\n",
       "      <td>15.0</td>\n",
       "      <td>15.0</td>\n",
       "      <td>24.0</td>\n",
       "    </tr>\n",
       "    <tr>\n",
       "      <th>MAX FRONTIER</th>\n",
       "      <td>9.0</td>\n",
       "      <td>9.0</td>\n",
       "      <td>8.0</td>\n",
       "      <td>45.0</td>\n",
       "      <td>20.0</td>\n",
       "      <td>18.0</td>\n",
       "      <td>10.0</td>\n",
       "    </tr>\n",
       "    <tr>\n",
       "      <th>DEEPEST LAYER</th>\n",
       "      <td>19.0</td>\n",
       "      <td>68.0</td>\n",
       "      <td>210.0</td>\n",
       "      <td>54.0</td>\n",
       "      <td>14.0</td>\n",
       "      <td>14.0</td>\n",
       "      <td>23.0</td>\n",
       "    </tr>\n",
       "    <tr>\n",
       "      <th>NODES EXPANDED</th>\n",
       "      <td>90.0</td>\n",
       "      <td>267.0</td>\n",
       "      <td>616.0</td>\n",
       "      <td>681.0</td>\n",
       "      <td>94.0</td>\n",
       "      <td>85.0</td>\n",
       "      <td>71.0</td>\n",
       "    </tr>\n",
       "    <tr>\n",
       "      <th>TIME (ms)</th>\n",
       "      <td>182.4</td>\n",
       "      <td>204.5</td>\n",
       "      <td>238.8</td>\n",
       "      <td>238.0</td>\n",
       "      <td>173.0</td>\n",
       "      <td>182.9</td>\n",
       "      <td>180.8</td>\n",
       "    </tr>\n",
       "  </tbody>\n",
       "</table>\n",
       "</div>"
      ],
      "text/plain": [
       "                small  medium  large   open  empty   wall  loops\n",
       "PATH COST        20.0    69.0  211.0   55.0   15.0   15.0   24.0\n",
       "MAX FRONTIER      9.0     9.0    8.0   45.0   20.0   18.0   10.0\n",
       "DEEPEST LAYER    19.0    68.0  210.0   54.0   14.0   14.0   23.0\n",
       "NODES EXPANDED   90.0   267.0  616.0  681.0   94.0   85.0   71.0\n",
       "TIME (ms)       182.4   204.5  238.8  238.0  173.0  182.9  180.8"
      ]
     },
     "execution_count": 261,
     "metadata": {},
     "output_type": "execute_result"
    }
   ],
   "source": [
    "def runBFS(mazeList, mazeNames, verbose=True):\n",
    "    mazeResults = []\n",
    "    paths = []\n",
    "    for maze in mazeList:\n",
    "        BFS = Search('BFS', verbose)\n",
    "        start = time.time()\n",
    "        values, path = BFS.search(maze)\n",
    "        totalTime = time.time() - start\n",
    "        values.append(round(totalTime*1000,1))\n",
    "        mazeResults.append(np.array(values))\n",
    "        paths.append(path)\n",
    "    df = pd.DataFrame.from_records(data=np.array(mazeResults).T, columns=mazeNames)\n",
    "    df.rename(index={0:\"PATH COST\", 1:\"MAX FRONTIER\", 2:\"DEEPEST LAYER\", 3:\"NODES EXPANDED\", 4:\"TIME (ms)\"}, inplace=True)\n",
    "    if verbose: print(df)\n",
    "    allPaths = list(zip(mazeNames, paths))\n",
    "    if verbose: print('\\n', \"ALL PATHS:\")\n",
    "    if verbose: print(*allPaths, sep='\\n')\n",
    "    return df\n",
    "    \n",
    "runBFS(mazeStrs, mazes)"
   ]
  },
  {
   "cell_type": "code",
   "execution_count": 262,
   "metadata": {
    "scrolled": false
   },
   "outputs": [
    {
     "name": "stdout",
     "output_type": "stream",
     "text": [
      "START: (3, 11)\n",
      "GOAL: (8, 1)\n",
      "PATH TO GOAL LENGTH: 50\n",
      "MAX FRONTIER SIZE: 7\n",
      "DEEPEST LAYER VISITED: 49\n",
      "NODES EXPANDED: 68\n"
     ]
    },
    {
     "data": {
      "image/png": "[encoded data removed]",
      "text/plain": [
       "<Figure size 432x288 with 1 Axes>"
      ]
     },
     "metadata": {
      "needs_background": "light"
     },
     "output_type": "display_data"
    },
    {
     "name": "stdout",
     "output_type": "stream",
     "text": [
      "START: (1, 34)\n",
      "GOAL: (16, 1)\n",
      "PATH TO GOAL LENGTH: 151\n",
      "MAX FRONTIER SIZE: 14\n",
      "DEEPEST LAYER VISITED: 150\n",
      "NODES EXPANDED: 163\n"
     ]
    },
    {
     "data": {
      "image/png": "[encoded data removed]",
      "text/plain": [
       "<Figure size 432x288 with 1 Axes>"
      ]
     },
     "metadata": {
      "needs_background": "light"
     },
     "output_type": "display_data"
    },
    {
     "name": "stdout",
     "output_type": "stream",
     "text": [
      "START: (35, 35)\n",
      "GOAL: (35, 1)\n",
      "PATH TO GOAL LENGTH: 211\n",
      "MAX FRONTIER SIZE: 37\n",
      "DEEPEST LAYER VISITED: 210\n",
      "NODES EXPANDED: 393\n"
     ]
    },
    {
     "data": {
      "image/png": "[encoded data removed]",
      "text/plain": [
       "<Figure size 432x288 with 1 Axes>"
      ]
     },
     "metadata": {
      "needs_background": "light"
     },
     "output_type": "display_data"
    },
    {
     "name": "stdout",
     "output_type": "stream",
     "text": [
      "START: (1, 35)\n",
      "GOAL: (21, 1)\n",
      "PATH TO GOAL LENGTH: 89\n",
      "MAX FRONTIER SIZE: 158\n",
      "DEEPEST LAYER VISITED: 109\n",
      "NODES EXPANDED: 281\n"
     ]
    },
    {
     "data": {
      "image/png": "[encoded data removed]",
      "text/plain": [
       "<Figure size 432x288 with 1 Axes>"
      ]
     },
     "metadata": {
      "needs_background": "light"
     },
     "output_type": "display_data"
    },
    {
     "name": "stdout",
     "output_type": "stream",
     "text": [
      "START: (9, 2)\n",
      "GOAL: (2, 9)\n",
      "PATH TO GOAL LENGTH: 39\n",
      "MAX FRONTIER SIZE: 48\n",
      "DEEPEST LAYER VISITED: 39\n",
      "NODES EXPANDED: 72\n"
     ]
    },
    {
     "data": {
      "image/png": "[encoded data removed]",
      "text/plain": [
       "<Figure size 432x288 with 1 Axes>"
      ]
     },
     "metadata": {
      "needs_background": "light"
     },
     "output_type": "display_data"
    },
    {
     "name": "stdout",
     "output_type": "stream",
     "text": [
      "START: (9, 2)\n",
      "GOAL: (2, 9)\n",
      "PATH TO GOAL LENGTH: 29\n",
      "MAX FRONTIER SIZE: 35\n",
      "DEEPEST LAYER VISITED: 28\n",
      "NODES EXPANDED: 45\n"
     ]
    },
    {
     "data": {
      "image/png": "[encoded data removed]",
      "text/plain": [
       "<Figure size 432x288 with 1 Axes>"
      ]
     },
     "metadata": {
      "needs_background": "light"
     },
     "output_type": "display_data"
    },
    {
     "name": "stdout",
     "output_type": "stream",
     "text": [
      "START: (10, 1)\n",
      "GOAL: (1, 1)\n",
      "PATH TO GOAL LENGTH: 26\n",
      "MAX FRONTIER SIZE: 9\n",
      "DEEPEST LAYER VISITED: 28\n",
      "NODES EXPANDED: 41\n"
     ]
    },
    {
     "data": {
      "image/png": "[encoded data removed]",
      "text/plain": [
       "<Figure size 432x288 with 1 Axes>"
      ]
     },
     "metadata": {
      "needs_background": "light"
     },
     "output_type": "display_data"
    },
    {
     "name": "stdout",
     "output_type": "stream",
     "text": [
      "                small  medium  large   open  empty   wall  loops\n",
      "PATH COST        50.0   151.0  211.0   89.0   39.0   29.0   26.0\n",
      "MAX FRONTIER      7.0    14.0   37.0  158.0   48.0   35.0    9.0\n",
      "DEEPEST LAYER    49.0   150.0  210.0  109.0   39.0   28.0   28.0\n",
      "NODES EXPANDED   68.0   163.0  393.0  281.0   72.0   45.0   41.0\n",
      "TIME (ms)       186.9   209.7  228.0  242.5  174.1  172.2  171.6\n",
      "\n",
      " ALL PATHS:\n",
      "('small', [(8, 1), (8, 2), (8, 3), (8, 4), (8, 5), (8, 6), (8, 7), (8, 8), (8, 9), (8, 10), (7, 10), (7, 11), (7, 12), (7, 13), (8, 13), (8, 14), (8, 15), (8, 16), (8, 17), (8, 18), (8, 19), (8, 20), (7, 20), (6, 20), (5, 20), (5, 19), (5, 18), (6, 18), (6, 17), (6, 16), (5, 16), (5, 15), (5, 14), (5, 13), (5, 12), (5, 11), (5, 10), (5, 9), (5, 8), (6, 8), (6, 7), (6, 6), (5, 6), (4, 6), (3, 6), (3, 7), (3, 8), (3, 9), (3, 10), (3, 11)])\n",
      "('medium', [(16, 1), (16, 2), (16, 3), (16, 4), (16, 5), (16, 6), (16, 7), (16, 8), (16, 9), (16, 10), (15, 10), (15, 11), (15, 12), (15, 13), (15, 14), (15, 15), (14, 15), (13, 15), (13, 16), (13, 17), (13, 18), (13, 19), (12, 19), (11, 19), (11, 18), (11, 17), (11, 16), (11, 15), (11, 14), (11, 13), (12, 13), (13, 13), (13, 12), (13, 11), (13, 10), (13, 9), (13, 8), (14, 8), (14, 7), (14, 6), (14, 5), (14, 4), (14, 3), (14, 2), (14, 1), (13, 1), (12, 1), (12, 2), (12, 3), (12, 4), (12, 5), (12, 6), (11, 6), (11, 7), (11, 8), (11, 9), (11, 10), (11, 11), (10, 11), (9, 11), (9, 12), (9, 13), (9, 14), (9, 15), (9, 16), (9, 17), (8, 17), (7, 17), (7, 16), (7, 15), (7, 14), (6, 14), (5, 14), (5, 13), (5, 12), (4, 12), (3, 12), (3, 13), (3, 14), (3, 15), (3, 16), (3, 17), (4, 17), (5, 17), (5, 18), (5, 19), (5, 20), (6, 20), (7, 20), (8, 20), (8, 21), (8, 22), (8, 23), (8, 24), (8, 25), (8, 26), (8, 27), (9, 27), (10, 27), (11, 27), (12, 27), (13, 27), (14, 27), (15, 27), (16, 27), (16, 28), (16, 29), (16, 30), (16, 31), (16, 32), (16, 33), (16, 34), (15, 34), (14, 34), (13, 34), (13, 33), (13, 32), (13, 31), (13, 30), (12, 30), (11, 30), (11, 31), (11, 32), (11, 33), (11, 34), (10, 34), (9, 34), (9, 33), (9, 32), (9, 31), (9, 30), (8, 30), (7, 30), (7, 31), (7, 32), (7, 33), (7, 34), (6, 34), (5, 34), (5, 33), (5, 32), (5, 31), (5, 30), (4, 30), (3, 30), (3, 31), (3, 32), (3, 33), (3, 34), (2, 34), (1, 34)])\n",
      "('large', [(35, 1), (34, 1), (33, 1), (33, 2), (33, 3), (32, 3), (31, 3), (30, 3), (29, 3), (29, 4), (29, 5), (28, 5), (27, 5), (27, 4), (27, 3), (26, 3), (25, 3), (24, 3), (23, 3), (23, 4), (23, 5), (22, 5), (21, 5), (20, 5), (19, 5), (19, 4), (19, 3), (18, 3), (17, 3), (16, 3), (15, 3), (14, 3), (13, 3), (12, 3), (11, 3), (10, 3), (9, 3), (9, 4), (9, 5), (9, 6), (9, 7), (9, 8), (9, 9), (9, 10), (9, 11), (9, 12), (9, 13), (8, 13), (7, 13), (7, 12), (7, 11), (6, 11), (5, 11), (4, 11), (3, 11), (3, 12), (3, 13), (3, 14), (3, 15), (2, 15), (1, 15), (1, 16), (1, 17), (1, 18), (1, 19), (1, 20), (1, 21), (2, 21), (3, 21), (4, 21), (5, 21), (6, 21), (7, 21), (8, 21), (9, 21), (9, 20), (9, 19), (9, 18), (9, 17), (9, 16), (9, 15), (10, 15), (11, 15), (12, 15), (13, 15), (14, 15), (15, 15), (15, 14), (15, 13), (16, 13), (17, 13), (17, 14), (17, 15), (17, 16), (17, 17), (17, 18), (17, 19), (17, 20), (17, 21), (17, 22), (17, 23), (17, 24), (17, 25), (18, 25), (19, 25), (19, 26), (19, 27), (18, 27), (17, 27), (16, 27), (15, 27), (15, 28), (15, 29), (14, 29), (13, 29), (12, 29), (11, 29), (10, 29), (9, 29), (9, 30), (9, 31), (9, 32), (9, 33), (8, 33), (7, 33), (7, 34), (7, 35), (8, 35), (9, 35), (10, 35), (11, 35), (12, 35), (13, 35), (14, 35), (15, 35), (16, 35), (17, 35), (17, 34), (17, 33), (17, 32), (17, 31), (18, 31), (19, 31), (20, 31), (21, 31), (22, 31), (23, 31), (23, 30), (23, 29), (22, 29), (21, 29), (21, 28), (21, 27), (22, 27), (23, 27), (23, 26), (23, 25), (23, 24), (23, 23), (24, 23), (25, 23), (25, 22), (25, 21), (24, 21), (23, 21), (23, 20), (23, 19), (23, 18), (23, 17), (23, 16), (23, 15), (24, 15), (25, 15), (26, 15), (27, 15), (28, 15), (29, 15), (29, 16), (29, 17), (30, 17), (31, 17), (31, 16), (31, 15), (32, 15), (33, 15), (33, 16), (33, 17), (33, 18), (33, 19), (33, 20), (33, 21), (33, 22), (33, 23), (33, 24), (33, 25), (33, 26), (33, 27), (33, 28), (33, 29), (32, 29), (31, 29), (31, 30), (31, 31), (32, 31), (33, 31), (33, 32), (33, 33), (33, 34), (33, 35), (34, 35), (35, 35)])\n",
      "('open', [(21, 1), (20, 1), (19, 1), (19, 2), (19, 3), (19, 4), (20, 4), (21, 4), (21, 5), (21, 6), (20, 6), (19, 6), (18, 6), (18, 7), (18, 8), (18, 9), (18, 10), (19, 10), (19, 11), (19, 12), (19, 13), (19, 14), (20, 14), (20, 15), (21, 15), (21, 16), (21, 17), (21, 18), (20, 18), (20, 19), (19, 19), (18, 19), (17, 19), (16, 19), (16, 18), (16, 17), (15, 17), (14, 17), (14, 18), (13, 18), (12, 18), (11, 18), (11, 17), (10, 17), (10, 16), (10, 15), (9, 15), (8, 15), (7, 15), (6, 15), (5, 15), (5, 16), (5, 17), (5, 18), (4, 18), (4, 19), (3, 19), (3, 20), (2, 20), (2, 21), (2, 22), (2, 23), (3, 23), (4, 23), (4, 24), (5, 24), (6, 24), (7, 24), (7, 25), (7, 26), (7, 27), (8, 27), (8, 28), (8, 29), (9, 29), (9, 30), (9, 31), (8, 31), (7, 31), (7, 32), (6, 32), (5, 32), (4, 32), (3, 32), (3, 33), (2, 33), (2, 34), (1, 34), (1, 35)])\n",
      "('empty', [(2, 9), (2, 8), (2, 7), (1, 7), (1, 6), (1, 5), (1, 4), (2, 4), (2, 3), (3, 3), (4, 3), (5, 3), (6, 3), (7, 3), (7, 4), (7, 5), (7, 6), (6, 6), (5, 6), (5, 7), (5, 8), (4, 8), (4, 9), (4, 10), (5, 10), (6, 10), (6, 9), (7, 9), (8, 9), (8, 8), (9, 8), (10, 8), (10, 7), (10, 6), (10, 5), (10, 4), (9, 4), (9, 3), (9, 2)])\n",
      "('wall', [(2, 9), (2, 8), (3, 8), (4, 8), (5, 8), (6, 8), (7, 8), (7, 9), (8, 9), (9, 9), (10, 9), (10, 8), (10, 7), (10, 6), (9, 6), (8, 6), (7, 6), (7, 5), (7, 4), (6, 4), (5, 4), (5, 3), (5, 2), (6, 2), (7, 2), (7, 1), (8, 1), (9, 1), (9, 2)])\n",
      "('loops', [(1, 1), (1, 2), (1, 3), (1, 4), (2, 4), (2, 5), (2, 6), (1, 6), (1, 7), (1, 8), (2, 8), (3, 8), (4, 8), (5, 8), (6, 8), (7, 8), (8, 8), (9, 8), (10, 8), (10, 7), (10, 6), (10, 5), (10, 4), (10, 3), (10, 2), (10, 1)])\n"
     ]
    },
    {
     "data": {
      "text/html": [
       "<div>\n",
       "<style scoped>\n",
       "    .dataframe tbody tr th:only-of-type {\n",
       "        vertical-align: middle;\n",
       "    }\n",
       "\n",
       "    .dataframe tbody tr th {\n",
       "        vertical-align: top;\n",
       "    }\n",
       "\n",
       "    .dataframe thead th {\n",
       "        text-align: right;\n",
       "    }\n",
       "</style>\n",
       "<table border=\"1\" class=\"dataframe\">\n",
       "  <thead>\n",
       "    <tr style=\"text-align: right;\">\n",
       "      <th></th>\n",
       "      <th>small</th>\n",
       "      <th>medium</th>\n",
       "      <th>large</th>\n",
       "      <th>open</th>\n",
       "      <th>empty</th>\n",
       "      <th>wall</th>\n",
       "      <th>loops</th>\n",
       "    </tr>\n",
       "  </thead>\n",
       "  <tbody>\n",
       "    <tr>\n",
       "      <th>PATH COST</th>\n",
       "      <td>50.0</td>\n",
       "      <td>151.0</td>\n",
       "      <td>211.0</td>\n",
       "      <td>89.0</td>\n",
       "      <td>39.0</td>\n",
       "      <td>29.0</td>\n",
       "      <td>26.0</td>\n",
       "    </tr>\n",
       "    <tr>\n",
       "      <th>MAX FRONTIER</th>\n",
       "      <td>7.0</td>\n",
       "      <td>14.0</td>\n",
       "      <td>37.0</td>\n",
       "      <td>158.0</td>\n",
       "      <td>48.0</td>\n",
       "      <td>35.0</td>\n",
       "      <td>9.0</td>\n",
       "    </tr>\n",
       "    <tr>\n",
       "      <th>DEEPEST LAYER</th>\n",
       "      <td>49.0</td>\n",
       "      <td>150.0</td>\n",
       "      <td>210.0</td>\n",
       "      <td>109.0</td>\n",
       "      <td>39.0</td>\n",
       "      <td>28.0</td>\n",
       "      <td>28.0</td>\n",
       "    </tr>\n",
       "    <tr>\n",
       "      <th>NODES EXPANDED</th>\n",
       "      <td>68.0</td>\n",
       "      <td>163.0</td>\n",
       "      <td>393.0</td>\n",
       "      <td>281.0</td>\n",
       "      <td>72.0</td>\n",
       "      <td>45.0</td>\n",
       "      <td>41.0</td>\n",
       "    </tr>\n",
       "    <tr>\n",
       "      <th>TIME (ms)</th>\n",
       "      <td>186.9</td>\n",
       "      <td>209.7</td>\n",
       "      <td>228.0</td>\n",
       "      <td>242.5</td>\n",
       "      <td>174.1</td>\n",
       "      <td>172.2</td>\n",
       "      <td>171.6</td>\n",
       "    </tr>\n",
       "  </tbody>\n",
       "</table>\n",
       "</div>"
      ],
      "text/plain": [
       "                small  medium  large   open  empty   wall  loops\n",
       "PATH COST        50.0   151.0  211.0   89.0   39.0   29.0   26.0\n",
       "MAX FRONTIER      7.0    14.0   37.0  158.0   48.0   35.0    9.0\n",
       "DEEPEST LAYER    49.0   150.0  210.0  109.0   39.0   28.0   28.0\n",
       "NODES EXPANDED   68.0   163.0  393.0  281.0   72.0   45.0   41.0\n",
       "TIME (ms)       186.9   209.7  228.0  242.5  174.1  172.2  171.6"
      ]
     },
     "execution_count": 262,
     "metadata": {},
     "output_type": "execute_result"
    }
   ],
   "source": [
    "def runDFS(mazeList, mazeNames, verbose=True):\n",
    "    mazeResults = []\n",
    "    paths = []\n",
    "    for maze in mazeList:\n",
    "        DFS = Search('DFS', verbose)\n",
    "        start = time.time()\n",
    "        values, path = DFS.search(maze)\n",
    "        totalTime = time.time() - start\n",
    "        values.append(round(totalTime*1000, 1))        \n",
    "        mazeResults.append(np.array(values))\n",
    "        paths.append(path)\n",
    "    df = pd.DataFrame.from_records(data=np.array(mazeResults).T, columns=mazeNames)\n",
    "    df.rename(index={0:\"PATH COST\", 1:\"MAX FRONTIER\", 2:\"DEEPEST LAYER\", 3:\"NODES EXPANDED\", 4:\"TIME (ms)\"}, inplace=True)\n",
    "    if verbose: print(df)\n",
    "    allPaths = list(zip(mazeNames, paths))\n",
    "    if verbose: print('\\n', \"ALL PATHS:\")\n",
    "    if verbose: print(*allPaths, sep='\\n')\n",
    "    return df\n",
    "    \n",
    "runDFS(mazeStrs, mazes)"
   ]
  },
  {
   "cell_type": "code",
   "execution_count": 266,
   "metadata": {
    "scrolled": false
   },
   "outputs": [
    {
     "name": "stdout",
     "output_type": "stream",
     "text": [
      "START: (3, 11)\n",
      "GOAL: (8, 1)\n",
      "PATH TO GOAL LENGTH: 20\n",
      "MAX FRONTIER SIZE: 7\n",
      "DEEPEST LAYER VISITED: 19\n",
      "NODES EXPANDED: 84\n"
     ]
    },
    {
     "data": {
      "image/png": "[encoded data removed]",
      "text/plain": [
       "<Figure size 432x288 with 1 Axes>"
      ]
     },
     "metadata": {
      "needs_background": "light"
     },
     "output_type": "display_data"
    },
    {
     "name": "stdout",
     "output_type": "stream",
     "text": [
      "START: (1, 34)\n",
      "GOAL: (16, 1)\n",
      "PATH TO GOAL LENGTH: 69\n",
      "MAX FRONTIER SIZE: 9\n",
      "DEEPEST LAYER VISITED: 72\n",
      "NODES EXPANDED: 135\n"
     ]
    },
    {
     "data": {
      "image/png": "[encoded data removed]",
      "text/plain": [
       "<Figure size 432x288 with 1 Axes>"
      ]
     },
     "metadata": {
      "needs_background": "light"
     },
     "output_type": "display_data"
    },
    {
     "name": "stdout",
     "output_type": "stream",
     "text": [
      "START: (35, 35)\n",
      "GOAL: (35, 1)\n",
      "PATH TO GOAL LENGTH: 211\n",
      "MAX FRONTIER SIZE: 47\n",
      "DEEPEST LAYER VISITED: 210\n",
      "NODES EXPANDED: 398\n"
     ]
    },
    {
     "data": {
      "image/png": "[encoded data removed]",
      "text/plain": [
       "<Figure size 432x288 with 1 Axes>"
      ]
     },
     "metadata": {
      "needs_background": "light"
     },
     "output_type": "display_data"
    },
    {
     "name": "stdout",
     "output_type": "stream",
     "text": [
      "START: (1, 35)\n",
      "GOAL: (21, 1)\n",
      "PATH TO GOAL LENGTH: 67\n",
      "MAX FRONTIER SIZE: 104\n",
      "DEEPEST LAYER VISITED: 71\n",
      "NODES EXPANDED: 299\n"
     ]
    },
    {
     "data": {
      "image/png": "[encoded data removed]",
      "text/plain": [
       "<Figure size 432x288 with 1 Axes>"
      ]
     },
     "metadata": {
      "needs_background": "light"
     },
     "output_type": "display_data"
    },
    {
     "name": "stdout",
     "output_type": "stream",
     "text": [
      "START: (9, 2)\n",
      "GOAL: (2, 9)\n",
      "PATH TO GOAL LENGTH: 15\n",
      "MAX FRONTIER SIZE: 22\n",
      "DEEPEST LAYER VISITED: 14\n",
      "NODES EXPANDED: 83\n"
     ]
    },
    {
     "data": {
      "image/png": "[encoded data removed]",
      "text/plain": [
       "<Figure size 432x288 with 1 Axes>"
      ]
     },
     "metadata": {
      "needs_background": "light"
     },
     "output_type": "display_data"
    },
    {
     "name": "stdout",
     "output_type": "stream",
     "text": [
      "START: (9, 2)\n",
      "GOAL: (2, 9)\n",
      "PATH TO GOAL LENGTH: 19\n",
      "MAX FRONTIER SIZE: 24\n",
      "DEEPEST LAYER VISITED: 18\n",
      "NODES EXPANDED: 31\n"
     ]
    },
    {
     "data": {
      "image/png": "[encoded data removed]",
      "text/plain": [
       "<Figure size 432x288 with 1 Axes>"
      ]
     },
     "metadata": {
      "needs_background": "light"
     },
     "output_type": "display_data"
    },
    {
     "name": "stdout",
     "output_type": "stream",
     "text": [
      "START: (10, 1)\n",
      "GOAL: (1, 1)\n",
      "PATH TO GOAL LENGTH: 30\n",
      "MAX FRONTIER SIZE: 15\n",
      "DEEPEST LAYER VISITED: 29\n",
      "NODES EXPANDED: 58\n"
     ]
    },
    {
     "data": {
      "image/png": "[encoded data removed]",
      "text/plain": [
       "<Figure size 432x288 with 1 Axes>"
      ]
     },
     "metadata": {
      "needs_background": "light"
     },
     "output_type": "display_data"
    },
    {
     "name": "stdout",
     "output_type": "stream",
     "text": [
      "                small  medium   large    open  empty   wall  loops\n",
      "PATH COST        20.0    69.0   211.0    67.0   15.0   19.0   30.0\n",
      "MAX FRONTIER      7.0     9.0    47.0   104.0   22.0   24.0   15.0\n",
      "DEEPEST LAYER    19.0    72.0   210.0    71.0   14.0   18.0   29.0\n",
      "NODES EXPANDED   84.0   135.0   398.0   299.0   83.0   31.0   58.0\n",
      "TIME (ms)       205.0   647.7  7099.4  2233.4  200.7  204.6  214.8\n",
      "\n",
      " ALL PATHS:\n",
      "('small', [(8, 1), (8, 2), (8, 3), (8, 4), (8, 5), (8, 6), (8, 7), (8, 8), (8, 9), (8, 10), (7, 10), (7, 11), (7, 12), (6, 12), (5, 12), (5, 13), (4, 13), (3, 13), (3, 12), (3, 11)])\n",
      "('medium', [(16, 1), (16, 2), (16, 3), (16, 4), (16, 5), (16, 6), (16, 7), (16, 8), (16, 9), (16, 10), (15, 10), (15, 11), (15, 12), (15, 13), (15, 14), (15, 15), (15, 16), (15, 17), (15, 18), (15, 19), (15, 20), (15, 21), (15, 22), (15, 23), (15, 24), (15, 25), (15, 26), (15, 27), (14, 27), (13, 27), (12, 27), (11, 27), (10, 27), (9, 27), (8, 27), (8, 26), (8, 25), (8, 24), (8, 23), (8, 22), (8, 21), (8, 20), (7, 20), (6, 20), (5, 20), (5, 21), (5, 22), (5, 23), (5, 24), (6, 24), (6, 25), (6, 26), (6, 27), (5, 27), (4, 27), (3, 27), (3, 26), (3, 25), (2, 25), (1, 25), (1, 26), (1, 27), (1, 28), (1, 29), (1, 30), (1, 31), (1, 32), (1, 33), (1, 34)])\n",
      "('large', [(35, 1), (34, 1), (33, 1), (33, 2), (33, 3), (32, 3), (31, 3), (30, 3), (29, 3), (29, 4), (29, 5), (28, 5), (27, 5), (27, 4), (27, 3), (26, 3), (25, 3), (24, 3), (23, 3), (23, 4), (23, 5), (22, 5), (21, 5), (20, 5), (19, 5), (19, 4), (19, 3), (18, 3), (17, 3), (16, 3), (15, 3), (14, 3), (13, 3), (12, 3), (11, 3), (10, 3), (9, 3), (9, 4), (9, 5), (9, 6), (9, 7), (9, 8), (9, 9), (9, 10), (9, 11), (9, 12), (9, 13), (8, 13), (7, 13), (7, 12), (7, 11), (6, 11), (5, 11), (4, 11), (3, 11), (3, 12), (3, 13), (3, 14), (3, 15), (2, 15), (1, 15), (1, 16), (1, 17), (1, 18), (1, 19), (1, 20), (1, 21), (2, 21), (3, 21), (4, 21), (5, 21), (6, 21), (7, 21), (8, 21), (9, 21), (9, 20), (9, 19), (9, 18), (9, 17), (9, 16), (9, 15), (10, 15), (11, 15), (12, 15), (13, 15), (14, 15), (15, 15), (15, 14), (15, 13), (16, 13), (17, 13), (17, 14), (17, 15), (17, 16), (17, 17), (17, 18), (17, 19), (17, 20), (17, 21), (17, 22), (17, 23), (17, 24), (17, 25), (18, 25), (19, 25), (19, 26), (19, 27), (18, 27), (17, 27), (16, 27), (15, 27), (15, 28), (15, 29), (14, 29), (13, 29), (12, 29), (11, 29), (10, 29), (9, 29), (9, 30), (9, 31), (9, 32), (9, 33), (8, 33), (7, 33), (7, 34), (7, 35), (8, 35), (9, 35), (10, 35), (11, 35), (12, 35), (13, 35), (14, 35), (15, 35), (16, 35), (17, 35), (17, 34), (17, 33), (17, 32), (17, 31), (18, 31), (19, 31), (20, 31), (21, 31), (22, 31), (23, 31), (23, 30), (23, 29), (22, 29), (21, 29), (21, 28), (21, 27), (22, 27), (23, 27), (23, 26), (23, 25), (23, 24), (23, 23), (24, 23), (25, 23), (25, 22), (25, 21), (24, 21), (23, 21), (23, 20), (23, 19), (23, 18), (23, 17), (23, 16), (23, 15), (24, 15), (25, 15), (26, 15), (27, 15), (28, 15), (29, 15), (29, 16), (29, 17), (30, 17), (31, 17), (31, 16), (31, 15), (32, 15), (33, 15), (33, 16), (33, 17), (33, 18), (33, 19), (33, 20), (33, 21), (33, 22), (33, 23), (33, 24), (33, 25), (33, 26), (33, 27), (33, 28), (33, 29), (32, 29), (31, 29), (31, 30), (31, 31), (32, 31), (33, 31), (33, 32), (33, 33), (33, 34), (33, 35), (34, 35), (35, 35)])\n",
      "('open', [(21, 1), (20, 1), (20, 2), (20, 3), (21, 3), (21, 4), (21, 5), (21, 6), (21, 7), (21, 8), (20, 8), (20, 9), (20, 10), (21, 10), (21, 11), (21, 12), (21, 13), (20, 13), (19, 13), (18, 13), (18, 14), (17, 14), (16, 14), (15, 14), (15, 15), (15, 16), (14, 16), (14, 17), (13, 17), (13, 18), (12, 18), (11, 18), (10, 18), (10, 19), (9, 19), (8, 19), (8, 18), (7, 18), (6, 18), (6, 19), (5, 19), (5, 20), (4, 20), (4, 21), (4, 22), (4, 23), (3, 23), (3, 24), (3, 25), (3, 26), (4, 26), (4, 27), (5, 27), (5, 28), (5, 29), (5, 30), (6, 30), (6, 31), (6, 32), (6, 33), (5, 33), (4, 33), (4, 34), (3, 34), (3, 35), (2, 35), (1, 35)])\n",
      "('empty', [(2, 9), (3, 9), (4, 9), (5, 9), (5, 8), (6, 8), (6, 7), (7, 7), (8, 7), (8, 6), (8, 5), (8, 4), (8, 3), (9, 3), (9, 2)])\n",
      "('wall', [(2, 9), (3, 9), (4, 9), (5, 9), (6, 9), (6, 10), (7, 10), (8, 10), (8, 9), (8, 8), (8, 7), (9, 7), (9, 6), (10, 6), (10, 5), (10, 4), (10, 3), (9, 3), (9, 2)])\n",
      "('loops', [(1, 1), (1, 2), (1, 3), (2, 3), (2, 4), (2, 5), (2, 6), (1, 6), (1, 7), (1, 8), (1, 9), (1, 10), (2, 10), (3, 10), (4, 10), (5, 10), (6, 10), (7, 10), (8, 10), (9, 10), (10, 10), (10, 9), (10, 8), (10, 7), (10, 6), (10, 5), (10, 4), (10, 3), (10, 2), (10, 1)])\n"
     ]
    },
    {
     "data": {
      "text/html": [
       "<div>\n",
       "<style scoped>\n",
       "    .dataframe tbody tr th:only-of-type {\n",
       "        vertical-align: middle;\n",
       "    }\n",
       "\n",
       "    .dataframe tbody tr th {\n",
       "        vertical-align: top;\n",
       "    }\n",
       "\n",
       "    .dataframe thead th {\n",
       "        text-align: right;\n",
       "    }\n",
       "</style>\n",
       "<table border=\"1\" class=\"dataframe\">\n",
       "  <thead>\n",
       "    <tr style=\"text-align: right;\">\n",
       "      <th></th>\n",
       "      <th>small</th>\n",
       "      <th>medium</th>\n",
       "      <th>large</th>\n",
       "      <th>open</th>\n",
       "      <th>empty</th>\n",
       "      <th>wall</th>\n",
       "      <th>loops</th>\n",
       "    </tr>\n",
       "  </thead>\n",
       "  <tbody>\n",
       "    <tr>\n",
       "      <th>PATH COST</th>\n",
       "      <td>20.0</td>\n",
       "      <td>69.0</td>\n",
       "      <td>211.0</td>\n",
       "      <td>67.0</td>\n",
       "      <td>15.0</td>\n",
       "      <td>19.0</td>\n",
       "      <td>30.0</td>\n",
       "    </tr>\n",
       "    <tr>\n",
       "      <th>MAX FRONTIER</th>\n",
       "      <td>7.0</td>\n",
       "      <td>9.0</td>\n",
       "      <td>47.0</td>\n",
       "      <td>104.0</td>\n",
       "      <td>22.0</td>\n",
       "      <td>24.0</td>\n",
       "      <td>15.0</td>\n",
       "    </tr>\n",
       "    <tr>\n",
       "      <th>DEEPEST LAYER</th>\n",
       "      <td>19.0</td>\n",
       "      <td>72.0</td>\n",
       "      <td>210.0</td>\n",
       "      <td>71.0</td>\n",
       "      <td>14.0</td>\n",
       "      <td>18.0</td>\n",
       "      <td>29.0</td>\n",
       "    </tr>\n",
       "    <tr>\n",
       "      <th>NODES EXPANDED</th>\n",
       "      <td>84.0</td>\n",
       "      <td>135.0</td>\n",
       "      <td>398.0</td>\n",
       "      <td>299.0</td>\n",
       "      <td>83.0</td>\n",
       "      <td>31.0</td>\n",
       "      <td>58.0</td>\n",
       "    </tr>\n",
       "    <tr>\n",
       "      <th>TIME (ms)</th>\n",
       "      <td>205.0</td>\n",
       "      <td>647.7</td>\n",
       "      <td>7099.4</td>\n",
       "      <td>2233.4</td>\n",
       "      <td>200.7</td>\n",
       "      <td>204.6</td>\n",
       "      <td>214.8</td>\n",
       "    </tr>\n",
       "  </tbody>\n",
       "</table>\n",
       "</div>"
      ],
      "text/plain": [
       "                small  medium   large    open  empty   wall  loops\n",
       "PATH COST        20.0    69.0   211.0    67.0   15.0   19.0   30.0\n",
       "MAX FRONTIER      7.0     9.0    47.0   104.0   22.0   24.0   15.0\n",
       "DEEPEST LAYER    19.0    72.0   210.0    71.0   14.0   18.0   29.0\n",
       "NODES EXPANDED   84.0   135.0   398.0   299.0   83.0   31.0   58.0\n",
       "TIME (ms)       205.0   647.7  7099.4  2233.4  200.7  204.6  214.8"
      ]
     },
     "execution_count": 266,
     "metadata": {},
     "output_type": "execute_result"
    }
   ],
   "source": [
    "def runIDS(mazeList, mazeNames, verbose=True):\n",
    "    mazeResults = []\n",
    "    paths = []\n",
    "    for maze in mazeList:\n",
    "        IDS = Search('IDS', verbose)\n",
    "        start = time.time()\n",
    "        values, path = IDS.search(maze)\n",
    "        totalTime = time.time() - start\n",
    "        values.append(round(totalTime*1000, 1))\n",
    "        mazeResults.append(np.array(values))\n",
    "        paths.append(path)\n",
    "    df = pd.DataFrame.from_records(data=np.array(mazeResults).T, columns=mazeNames)\n",
    "    df.rename(index={0:\"PATH COST\", 1:\"MAX FRONTIER\", 2:\"DEEPEST LAYER\", 3:\"NODES EXPANDED\", 4:\"TIME (ms)\"}, inplace=True)\n",
    "    if verbose: print(df)\n",
    "    allPaths = list(zip(mazeNames, paths))\n",
    "    if verbose: print('\\n', \"ALL PATHS:\")\n",
    "    if verbose: print(*allPaths, sep='\\n')\n",
    "    return df\n",
    "    \n",
    "runIDS(mazeStrs, mazes)"
   ]
  },
  {
   "cell_type": "markdown",
   "metadata": {},
   "source": [
    "Are your implementations complete and optimal? Explain why. What is the time and space complexity of each?"
   ]
  },
  {
   "cell_type": "markdown",
   "metadata": {},
   "source": [
    "<b>BFS</b> - BFS is optimal because it searches all directions expanding into each possible node in a layer before moving to the next layer of nodes. Because of this, BFS has a high space and time complexity of O(b<sup>d</sup>). BFS is a complete search because it explores all possible nodes. <br>\n",
    "<b>DFS</b> - DFS is not optimal because it returns the first path it finds to the finish, even if there are other options it has not explored. Although this would lead us to expect a low space complexity, in a tree first traversal a DFS search has a O(b<sup>m</sup>) because in our worst case the tree we use stores all nodes that exist. By using the same implementation as the BFS search with the tree and visited array, we are forcing ourselves into this higher space complexity. It still has a high time complexity, O(b<sup>m</sup>), because it is not guaranteed to find a path unless it explores all options. DFS would not be complete normally beacause it can get stuck in an infinite loop, if not for checking the set of visited nodes. This optimization ensures that DFS never catches in an infinite loop therefore making the search complete.<br>\n",
    "<b>IDS</b> - IDS is similar to DFS, because it employes the same search tactic of expanding to each node possible before returning up the tree to its parent nodes. The main difference is at each level of the tree it is exploring for the first time it resets its memory to restart the search. This would normally have a lower space complexity than BFS of O(bd) but the same maximum time complexity of O(b<sup>d</sup>) applies because of our data structres (visited list). If we were to remove this list and let the IDS perform normally, it would loop infinitely given certain mazes, however in non looping mazes approach the O(bd) space complexity. The visited list keeps it from looping. This search is complete, similar to BFS. IDS should be optimal, but is not in my implementation because I was unable to find a way to remove the visited nodes that are checked during the DFS before failing that owuld allow the next iteration of the DFS to explore again. If I were able to remove those nodes, then the search function should be able to explore the similar directions that are currently not possible because of the visited list. This occurs because of loops in the maze, where if a -> b -> c but d also -> c then when exploring d I am not able to add c to the frontier because the set contains that element. I am unable to find a away to program into this function a way around this looping situtation that causes IDS to not be optimal although it should be. If we were to wipe the visited list at each new traversal backup the tree of all the nodes that were below it should work.<br>\n",
    "\n",
    "Variable meanings: <br>\n",
    "b - branching factor <br>\n",
    "m - maximum depth of the search tree <br>\n",
    "d - depth of shallowest solution <br>\n",
    "\n",
    "Optimal - lowest path cost possible from start to goal<br>\n",
    "Complete - always finds a path should it exist\n"
   ]
  },
  {
   "cell_type": "markdown",
   "metadata": {},
   "source": [
    "## Task 3: Greedy best-first search [2 points]\n",
    "\n",
    "You can use the map to estimate the distance from your current position to the goal using the Manhattan distance (see https://en.wikipedia.org/wiki/Taxicab_geometry) as a heuristic function."
   ]
  },
  {
   "cell_type": "code",
   "execution_count": 189,
   "metadata": {
    "scrolled": true
   },
   "outputs": [
    {
     "name": "stdout",
     "output_type": "stream",
     "text": [
      "START: (3, 11)\n",
      "GOAL: (8, 1)\n",
      "PATH TO GOAL LENGTH: 30\n",
      "MAX FRONTIER SIZE: 5\n",
      "DEEPEST LAYER VISITED: 29\n",
      "NODES EXPANDED: 39\n"
     ]
    },
    {
     "data": {
      "image/png": "[encoded data removed]",
      "text/plain": [
       "<Figure size 432x288 with 1 Axes>"
      ]
     },
     "metadata": {
      "needs_background": "light"
     },
     "output_type": "display_data"
    },
    {
     "name": "stdout",
     "output_type": "stream",
     "text": [
      "START: (1, 34)\n",
      "GOAL: (16, 1)\n",
      "PATH TO GOAL LENGTH: 77\n",
      "MAX FRONTIER SIZE: 4\n",
      "DEEPEST LAYER VISITED: 76\n",
      "NODES EXPANDED: 78\n"
     ]
    },
    {
     "data": {
      "image/png": "[encoded data removed]",
      "text/plain": [
       "<Figure size 432x288 with 1 Axes>"
      ]
     },
     "metadata": {
      "needs_background": "light"
     },
     "output_type": "display_data"
    },
    {
     "name": "stdout",
     "output_type": "stream",
     "text": [
      "START: (35, 35)\n",
      "GOAL: (35, 1)\n",
      "PATH TO GOAL LENGTH: 211\n",
      "MAX FRONTIER SIZE: 22\n",
      "DEEPEST LAYER VISITED: 210\n",
      "NODES EXPANDED: 461\n"
     ]
    },
    {
     "data": {
      "image/png": "[encoded data removed]",
      "text/plain": [
       "<Figure size 432x288 with 1 Axes>"
      ]
     },
     "metadata": {
      "needs_background": "light"
     },
     "output_type": "display_data"
    },
    {
     "name": "stdout",
     "output_type": "stream",
     "text": [
      "START: (1, 35)\n",
      "GOAL: (21, 1)\n",
      "PATH TO GOAL LENGTH: 69\n",
      "MAX FRONTIER SIZE: 92\n",
      "DEEPEST LAYER VISITED: 68\n",
      "NODES EXPANDED: 87\n"
     ]
    },
    {
     "data": {
      "image/png": "[encoded data removed]",
      "text/plain": [
       "<Figure size 432x288 with 1 Axes>"
      ]
     },
     "metadata": {
      "needs_background": "light"
     },
     "output_type": "display_data"
    },
    {
     "name": "stdout",
     "output_type": "stream",
     "text": [
      "START: (9, 2)\n",
      "GOAL: (2, 9)\n",
      "PATH TO GOAL LENGTH: 15\n",
      "MAX FRONTIER SIZE: 28\n",
      "DEEPEST LAYER VISITED: 14\n",
      "NODES EXPANDED: 14\n"
     ]
    },
    {
     "data": {
      "image/png": "[encoded data removed]",
      "text/plain": [
       "<Figure size 432x288 with 1 Axes>"
      ]
     },
     "metadata": {
      "needs_background": "light"
     },
     "output_type": "display_data"
    },
    {
     "name": "stdout",
     "output_type": "stream",
     "text": [
      "START: (9, 2)\n",
      "GOAL: (2, 9)\n",
      "PATH TO GOAL LENGTH: 19\n",
      "MAX FRONTIER SIZE: 28\n",
      "DEEPEST LAYER VISITED: 18\n",
      "NODES EXPANDED: 22\n"
     ]
    },
    {
     "data": {
      "image/png": "[encoded data removed]",
      "text/plain": [
       "<Figure size 432x288 with 1 Axes>"
      ]
     },
     "metadata": {
      "needs_background": "light"
     },
     "output_type": "display_data"
    },
    {
     "name": "stdout",
     "output_type": "stream",
     "text": [
      "START: (10, 1)\n",
      "GOAL: (1, 1)\n",
      "PATH TO GOAL LENGTH: 42\n",
      "MAX FRONTIER SIZE: 13\n",
      "DEEPEST LAYER VISITED: 41\n",
      "NODES EXPANDED: 51\n"
     ]
    },
    {
     "data": {
      "image/png": "[encoded data removed]",
      "text/plain": [
       "<Figure size 432x288 with 1 Axes>"
      ]
     },
     "metadata": {
      "needs_background": "light"
     },
     "output_type": "display_data"
    },
    {
     "name": "stdout",
     "output_type": "stream",
     "text": [
      "                small  medium  large   open  empty   wall  loops\n",
      "PATH COST        30.0    77.0  211.0   69.0   15.0   19.0   42.0\n",
      "MAX FRONTIER      5.0     4.0   22.0   92.0   28.0   28.0   13.0\n",
      "DEEPEST LAYER    29.0    76.0  210.0   68.0   14.0   18.0   41.0\n",
      "NODES EXPANDED   39.0    78.0  461.0   87.0   14.0   22.0   51.0\n",
      "TIME (ms)       185.5   199.2  271.8  193.2  168.6  175.0  177.8\n",
      "\n",
      " ALL PATHS:\n",
      "('small', [(8, 1), (8, 2), (8, 3), (8, 4), (8, 5), (8, 6), (8, 7), (8, 8), (8, 9), (8, 10), (7, 10), (7, 11), (7, 12), (6, 12), (5, 12), (5, 11), (5, 10), (5, 9), (5, 8), (6, 8), (6, 7), (6, 6), (5, 6), (4, 6), (3, 6), (3, 7), (3, 8), (3, 9), (3, 10), (3, 11)])\n",
      "('medium', [(16, 1), (16, 2), (16, 3), (16, 4), (16, 5), (16, 6), (16, 7), (16, 8), (16, 9), (16, 10), (15, 10), (15, 11), (15, 12), (15, 13), (15, 14), (15, 15), (15, 16), (15, 17), (15, 18), (15, 19), (15, 20), (15, 21), (15, 22), (15, 23), (15, 24), (15, 25), (15, 26), (15, 27), (16, 27), (16, 28), (16, 29), (16, 30), (16, 31), (16, 32), (16, 33), (16, 34), (15, 34), (14, 34), (13, 34), (13, 33), (13, 32), (13, 31), (14, 31), (14, 30), (13, 30), (12, 30), (11, 30), (11, 31), (11, 32), (11, 33), (11, 34), (10, 34), (9, 34), (9, 33), (9, 32), (9, 31), (9, 30), (8, 30), (7, 30), (7, 31), (7, 32), (7, 33), (7, 34), (6, 34), (5, 34), (5, 33), (5, 32), (5, 31), (5, 30), (4, 30), (3, 30), (3, 31), (3, 32), (3, 33), (3, 34), (2, 34), (1, 34)])\n",
      "('large', [(35, 1), (34, 1), (33, 1), (33, 2), (33, 3), (32, 3), (31, 3), (30, 3), (29, 3), (29, 4), (29, 5), (28, 5), (27, 5), (27, 4), (27, 3), (26, 3), (25, 3), (24, 3), (23, 3), (23, 4), (23, 5), (22, 5), (21, 5), (20, 5), (19, 5), (19, 4), (19, 3), (18, 3), (17, 3), (16, 3), (15, 3), (14, 3), (13, 3), (12, 3), (11, 3), (10, 3), (9, 3), (9, 4), (9, 5), (9, 6), (9, 7), (9, 8), (9, 9), (9, 10), (9, 11), (9, 12), (9, 13), (8, 13), (7, 13), (7, 12), (7, 11), (6, 11), (5, 11), (4, 11), (3, 11), (3, 12), (3, 13), (3, 14), (3, 15), (2, 15), (1, 15), (1, 16), (1, 17), (1, 18), (1, 19), (1, 20), (1, 21), (2, 21), (3, 21), (4, 21), (5, 21), (6, 21), (7, 21), (8, 21), (9, 21), (9, 20), (9, 19), (9, 18), (9, 17), (9, 16), (9, 15), (10, 15), (11, 15), (12, 15), (13, 15), (14, 15), (15, 15), (15, 14), (15, 13), (16, 13), (17, 13), (17, 14), (17, 15), (17, 16), (17, 17), (17, 18), (17, 19), (17, 20), (17, 21), (17, 22), (17, 23), (17, 24), (17, 25), (18, 25), (19, 25), (19, 26), (19, 27), (18, 27), (17, 27), (16, 27), (15, 27), (15, 28), (15, 29), (14, 29), (13, 29), (12, 29), (11, 29), (10, 29), (9, 29), (9, 30), (9, 31), (9, 32), (9, 33), (8, 33), (7, 33), (7, 34), (7, 35), (8, 35), (9, 35), (10, 35), (11, 35), (12, 35), (13, 35), (14, 35), (15, 35), (16, 35), (17, 35), (17, 34), (17, 33), (17, 32), (17, 31), (18, 31), (19, 31), (20, 31), (21, 31), (22, 31), (23, 31), (23, 30), (23, 29), (22, 29), (21, 29), (21, 28), (21, 27), (22, 27), (23, 27), (23, 26), (23, 25), (23, 24), (23, 23), (24, 23), (25, 23), (25, 22), (25, 21), (24, 21), (23, 21), (23, 20), (23, 19), (23, 18), (23, 17), (23, 16), (23, 15), (24, 15), (25, 15), (26, 15), (27, 15), (28, 15), (29, 15), (29, 16), (29, 17), (30, 17), (31, 17), (31, 16), (31, 15), (32, 15), (33, 15), (33, 16), (33, 17), (33, 18), (33, 19), (33, 20), (33, 21), (33, 22), (33, 23), (33, 24), (33, 25), (33, 26), (33, 27), (33, 28), (33, 29), (32, 29), (31, 29), (31, 30), (31, 31), (32, 31), (33, 31), (33, 32), (33, 33), (33, 34), (33, 35), (34, 35), (35, 35)])\n",
      "('open', [(21, 1), (21, 2), (21, 3), (21, 4), (21, 5), (21, 6), (21, 7), (21, 8), (21, 9), (21, 10), (21, 11), (20, 11), (19, 11), (19, 12), (18, 12), (18, 13), (18, 14), (17, 14), (16, 14), (15, 14), (14, 14), (13, 14), (12, 14), (11, 14), (10, 14), (9, 14), (8, 14), (8, 15), (7, 15), (6, 15), (6, 16), (6, 17), (6, 18), (6, 19), (6, 20), (6, 21), (7, 21), (8, 21), (9, 21), (10, 21), (11, 21), (12, 21), (13, 21), (13, 22), (13, 23), (13, 24), (13, 25), (13, 26), (13, 27), (13, 28), (13, 29), (12, 29), (11, 29), (11, 30), (11, 31), (10, 31), (10, 32), (9, 32), (9, 33), (8, 33), (7, 33), (6, 33), (5, 33), (5, 34), (4, 34), (4, 35), (3, 35), (2, 35), (1, 35)])\n",
      "('empty', [(2, 9), (2, 8), (2, 7), (2, 6), (2, 5), (3, 5), (4, 5), (5, 5), (6, 5), (6, 4), (7, 4), (8, 4), (8, 3), (8, 2), (9, 2)])\n",
      "('wall', [(2, 9), (2, 8), (2, 7), (2, 6), (2, 5), (2, 4), (3, 4), (3, 3), (4, 3), (5, 3), (5, 4), (5, 5), (6, 5), (6, 4), (7, 4), (7, 3), (7, 2), (8, 2), (9, 2)])\n",
      "('loops', [(1, 1), (1, 2), (1, 3), (1, 4), (1, 5), (1, 6), (1, 7), (2, 7), (2, 8), (3, 8), (4, 8), (5, 8), (6, 8), (7, 8), (8, 8), (9, 8), (10, 8), (10, 7), (10, 6), (9, 6), (8, 6), (7, 6), (6, 6), (5, 6), (4, 6), (4, 5), (4, 4), (4, 3), (4, 2), (4, 1), (5, 1), (5, 2), (5, 3), (6, 3), (7, 3), (7, 4), (8, 4), (9, 4), (10, 4), (10, 3), (10, 2), (10, 1)])\n"
     ]
    },
    {
     "data": {
      "text/html": [
       "<div>\n",
       "<style scoped>\n",
       "    .dataframe tbody tr th:only-of-type {\n",
       "        vertical-align: middle;\n",
       "    }\n",
       "\n",
       "    .dataframe tbody tr th {\n",
       "        vertical-align: top;\n",
       "    }\n",
       "\n",
       "    .dataframe thead th {\n",
       "        text-align: right;\n",
       "    }\n",
       "</style>\n",
       "<table border=\"1\" class=\"dataframe\">\n",
       "  <thead>\n",
       "    <tr style=\"text-align: right;\">\n",
       "      <th></th>\n",
       "      <th>small</th>\n",
       "      <th>medium</th>\n",
       "      <th>large</th>\n",
       "      <th>open</th>\n",
       "      <th>empty</th>\n",
       "      <th>wall</th>\n",
       "      <th>loops</th>\n",
       "    </tr>\n",
       "  </thead>\n",
       "  <tbody>\n",
       "    <tr>\n",
       "      <th>PATH COST</th>\n",
       "      <td>30.0</td>\n",
       "      <td>77.0</td>\n",
       "      <td>211.0</td>\n",
       "      <td>69.0</td>\n",
       "      <td>15.0</td>\n",
       "      <td>19.0</td>\n",
       "      <td>42.0</td>\n",
       "    </tr>\n",
       "    <tr>\n",
       "      <th>MAX FRONTIER</th>\n",
       "      <td>5.0</td>\n",
       "      <td>4.0</td>\n",
       "      <td>22.0</td>\n",
       "      <td>92.0</td>\n",
       "      <td>28.0</td>\n",
       "      <td>28.0</td>\n",
       "      <td>13.0</td>\n",
       "    </tr>\n",
       "    <tr>\n",
       "      <th>DEEPEST LAYER</th>\n",
       "      <td>29.0</td>\n",
       "      <td>76.0</td>\n",
       "      <td>210.0</td>\n",
       "      <td>68.0</td>\n",
       "      <td>14.0</td>\n",
       "      <td>18.0</td>\n",
       "      <td>41.0</td>\n",
       "    </tr>\n",
       "    <tr>\n",
       "      <th>NODES EXPANDED</th>\n",
       "      <td>39.0</td>\n",
       "      <td>78.0</td>\n",
       "      <td>461.0</td>\n",
       "      <td>87.0</td>\n",
       "      <td>14.0</td>\n",
       "      <td>22.0</td>\n",
       "      <td>51.0</td>\n",
       "    </tr>\n",
       "    <tr>\n",
       "      <th>TIME (ms)</th>\n",
       "      <td>185.5</td>\n",
       "      <td>199.2</td>\n",
       "      <td>271.8</td>\n",
       "      <td>193.2</td>\n",
       "      <td>168.6</td>\n",
       "      <td>175.0</td>\n",
       "      <td>177.8</td>\n",
       "    </tr>\n",
       "  </tbody>\n",
       "</table>\n",
       "</div>"
      ],
      "text/plain": [
       "                small  medium  large   open  empty   wall  loops\n",
       "PATH COST        30.0    77.0  211.0   69.0   15.0   19.0   42.0\n",
       "MAX FRONTIER      5.0     4.0   22.0   92.0   28.0   28.0   13.0\n",
       "DEEPEST LAYER    29.0    76.0  210.0   68.0   14.0   18.0   41.0\n",
       "NODES EXPANDED   39.0    78.0  461.0   87.0   14.0   22.0   51.0\n",
       "TIME (ms)       185.5   199.2  271.8  193.2  168.6  175.0  177.8"
      ]
     },
     "execution_count": 189,
     "metadata": {},
     "output_type": "execute_result"
    }
   ],
   "source": [
    "def runGBFS(mazeList, mazeNames, verbose=True):\n",
    "    mazeResults = []\n",
    "    paths = []\n",
    "    for maze in mazeList:\n",
    "        GBFS = Search('GBFS', verbose)\n",
    "        start = time.time()\n",
    "        values, path = GBFS.search(maze)\n",
    "        totalTime = time.time() - start\n",
    "        values.append(round(totalTime*1000, 1))\n",
    "        mazeResults.append(np.array(values))\n",
    "        paths.append(path)\n",
    "    df = pd.DataFrame.from_records(data=np.array(mazeResults).T, columns=mazeNames)\n",
    "    df.rename(index={0:\"PATH COST\", 1:\"MAX FRONTIER\", 2:\"DEEPEST LAYER\", 3:\"NODES EXPANDED\", 4:\"TIME (ms)\"}, inplace=True)\n",
    "    if verbose: print(df)\n",
    "    allPaths = list(zip(mazeNames, paths))\n",
    "    if verbose: print('\\n', \"ALL PATHS:\")\n",
    "    if verbose: print(*allPaths, sep='\\n')\n",
    "    return df\n",
    "    \n",
    "runGBFS(mazeStrs, mazes)"
   ]
  },
  {
   "cell_type": "markdown",
   "metadata": {},
   "source": [
    "Is this implementation complete and optimal? What is the time and space complexity?"
   ]
  },
  {
   "cell_type": "markdown",
   "metadata": {},
   "source": [
    "<b>GBFS</b> - GBFS is not optimal as it uses a heuristic to guide its path movement and does not reexplore spaces in the frontier that may be quicker. GBFS is not complete because it does not use past knowledge to guide its decisions and can get stuck in a dead end. GBFS has significantly lower space and time complexity as it uses a heuristic function to select its next visited location from the frontier. This is a worst case space and time complexity of O(b<sup>m</sup>). These can be significantly reduced based on the effectiveness of the heurisitic and the particular problem."
   ]
  },
  {
   "cell_type": "markdown",
   "metadata": {},
   "source": [
    "## Task 4: A* Search [3 points]\n",
    "\n",
    "Use again the Manhattan heuristic function."
   ]
  },
  {
   "cell_type": "code",
   "execution_count": 191,
   "metadata": {
    "scrolled": false
   },
   "outputs": [
    {
     "name": "stdout",
     "output_type": "stream",
     "text": [
      "START: (3, 11)\n",
      "GOAL: (8, 1)\n",
      "PATH TO GOAL LENGTH: 20\n",
      "MAX FRONTIER SIZE: 8\n",
      "DEEPEST LAYER VISITED: 19\n",
      "NODES EXPANDED: 53\n"
     ]
    },
    {
     "data": {
      "image/png": "[encoded data removed]",
      "text/plain": [
       "<Figure size 432x288 with 1 Axes>"
      ]
     },
     "metadata": {
      "needs_background": "light"
     },
     "output_type": "display_data"
    },
    {
     "name": "stdout",
     "output_type": "stream",
     "text": [
      "START: (1, 34)\n",
      "GOAL: (16, 1)\n",
      "PATH TO GOAL LENGTH: 69\n",
      "MAX FRONTIER SIZE: 8\n",
      "DEEPEST LAYER VISITED: 68\n",
      "NODES EXPANDED: 221\n"
     ]
    },
    {
     "data": {
      "image/png": "[encoded data removed]",
      "text/plain": [
       "<Figure size 432x288 with 1 Axes>"
      ]
     },
     "metadata": {
      "needs_background": "light"
     },
     "output_type": "display_data"
    },
    {
     "name": "stdout",
     "output_type": "stream",
     "text": [
      "START: (35, 35)\n",
      "GOAL: (35, 1)\n",
      "PATH TO GOAL LENGTH: 211\n",
      "MAX FRONTIER SIZE: 12\n",
      "DEEPEST LAYER VISITED: 210\n",
      "NODES EXPANDED: 549\n"
     ]
    },
    {
     "data": {
      "image/png": "[encoded data removed]",
      "text/plain": [
       "<Figure size 432x288 with 1 Axes>"
      ]
     },
     "metadata": {
      "needs_background": "light"
     },
     "output_type": "display_data"
    },
    {
     "name": "stdout",
     "output_type": "stream",
     "text": [
      "START: (1, 35)\n",
      "GOAL: (21, 1)\n",
      "PATH TO GOAL LENGTH: 55\n",
      "MAX FRONTIER SIZE: 40\n",
      "DEEPEST LAYER VISITED: 54\n",
      "NODES EXPANDED: 534\n"
     ]
    },
    {
     "data": {
      "image/png": "[encoded data removed]",
      "text/plain": [
       "<Figure size 432x288 with 1 Axes>"
      ]
     },
     "metadata": {
      "needs_background": "light"
     },
     "output_type": "display_data"
    },
    {
     "name": "stdout",
     "output_type": "stream",
     "text": [
      "START: (9, 2)\n",
      "GOAL: (2, 9)\n",
      "PATH TO GOAL LENGTH: 15\n",
      "MAX FRONTIER SIZE: 32\n",
      "DEEPEST LAYER VISITED: 14\n",
      "NODES EXPANDED: 63\n"
     ]
    },
    {
     "data": {
      "image/png": "[encoded data removed]",
      "text/plain": [
       "<Figure size 432x288 with 1 Axes>"
      ]
     },
     "metadata": {
      "needs_background": "light"
     },
     "output_type": "display_data"
    },
    {
     "name": "stdout",
     "output_type": "stream",
     "text": [
      "START: (9, 2)\n",
      "GOAL: (2, 9)\n",
      "PATH TO GOAL LENGTH: 15\n",
      "MAX FRONTIER SIZE: 32\n",
      "DEEPEST LAYER VISITED: 14\n",
      "NODES EXPANDED: 56\n"
     ]
    },
    {
     "data": {
      "image/png": "[encoded data removed]",
      "text/plain": [
       "<Figure size 432x288 with 1 Axes>"
      ]
     },
     "metadata": {
      "needs_background": "light"
     },
     "output_type": "display_data"
    },
    {
     "name": "stdout",
     "output_type": "stream",
     "text": [
      "START: (10, 1)\n",
      "GOAL: (1, 1)\n",
      "PATH TO GOAL LENGTH: 24\n",
      "MAX FRONTIER SIZE: 8\n",
      "DEEPEST LAYER VISITED: 23\n",
      "NODES EXPANDED: 58\n"
     ]
    },
    {
     "data": {
      "image/png": "[encoded data removed]",
      "text/plain": [
       "<Figure size 432x288 with 1 Axes>"
      ]
     },
     "metadata": {
      "needs_background": "light"
     },
     "output_type": "display_data"
    },
    {
     "name": "stdout",
     "output_type": "stream",
     "text": [
      "                small  medium  large   open  empty   wall  loops\n",
      "PATH COST        20.0    69.0  211.0   55.0   15.0   15.0   24.0\n",
      "MAX FRONTIER      8.0     8.0   12.0   40.0   32.0   32.0    8.0\n",
      "DEEPEST LAYER    19.0    68.0  210.0   54.0   14.0   14.0   23.0\n",
      "NODES EXPANDED   53.0   221.0  549.0  534.0   63.0   56.0   58.0\n",
      "TIME (ms)       184.5   221.5  378.2  601.9  229.8  177.3  177.8\n",
      "\n",
      " ALL PATHS:\n",
      "('small', [(8, 1), (8, 2), (8, 3), (8, 4), (8, 5), (8, 6), (8, 7), (8, 8), (8, 9), (8, 10), (7, 10), (7, 11), (7, 12), (6, 12), (5, 12), (5, 13), (4, 13), (3, 13), (3, 12), (3, 11)])\n",
      "('medium', [(16, 1), (16, 2), (16, 3), (16, 4), (16, 5), (16, 6), (16, 7), (16, 8), (16, 9), (16, 10), (15, 10), (15, 11), (15, 12), (15, 13), (15, 14), (15, 15), (15, 16), (15, 17), (15, 18), (15, 19), (15, 20), (15, 21), (15, 22), (15, 23), (15, 24), (15, 25), (15, 26), (15, 27), (14, 27), (13, 27), (12, 27), (11, 27), (10, 27), (9, 27), (8, 27), (8, 26), (8, 25), (8, 24), (8, 23), (8, 22), (8, 21), (8, 20), (7, 20), (6, 20), (5, 20), (5, 21), (5, 22), (5, 23), (5, 24), (6, 24), (6, 25), (6, 26), (6, 27), (5, 27), (4, 27), (3, 27), (3, 26), (3, 25), (2, 25), (1, 25), (1, 26), (1, 27), (1, 28), (1, 29), (1, 30), (1, 31), (1, 32), (1, 33), (1, 34)])\n",
      "('large', [(35, 1), (34, 1), (33, 1), (33, 2), (33, 3), (32, 3), (31, 3), (30, 3), (29, 3), (29, 4), (29, 5), (28, 5), (27, 5), (27, 4), (27, 3), (26, 3), (25, 3), (24, 3), (23, 3), (23, 4), (23, 5), (22, 5), (21, 5), (20, 5), (19, 5), (19, 4), (19, 3), (18, 3), (17, 3), (16, 3), (15, 3), (14, 3), (13, 3), (12, 3), (11, 3), (10, 3), (9, 3), (9, 4), (9, 5), (9, 6), (9, 7), (9, 8), (9, 9), (9, 10), (9, 11), (9, 12), (9, 13), (8, 13), (7, 13), (7, 12), (7, 11), (6, 11), (5, 11), (4, 11), (3, 11), (3, 12), (3, 13), (3, 14), (3, 15), (2, 15), (1, 15), (1, 16), (1, 17), (1, 18), (1, 19), (1, 20), (1, 21), (2, 21), (3, 21), (4, 21), (5, 21), (6, 21), (7, 21), (8, 21), (9, 21), (9, 20), (9, 19), (9, 18), (9, 17), (9, 16), (9, 15), (10, 15), (11, 15), (12, 15), (13, 15), (14, 15), (15, 15), (15, 14), (15, 13), (16, 13), (17, 13), (17, 14), (17, 15), (17, 16), (17, 17), (17, 18), (17, 19), (17, 20), (17, 21), (17, 22), (17, 23), (17, 24), (17, 25), (18, 25), (19, 25), (19, 26), (19, 27), (18, 27), (17, 27), (16, 27), (15, 27), (15, 28), (15, 29), (14, 29), (13, 29), (12, 29), (11, 29), (10, 29), (9, 29), (9, 30), (9, 31), (9, 32), (9, 33), (8, 33), (7, 33), (7, 34), (7, 35), (8, 35), (9, 35), (10, 35), (11, 35), (12, 35), (13, 35), (14, 35), (15, 35), (16, 35), (17, 35), (17, 34), (17, 33), (17, 32), (17, 31), (18, 31), (19, 31), (20, 31), (21, 31), (22, 31), (23, 31), (23, 30), (23, 29), (22, 29), (21, 29), (21, 28), (21, 27), (22, 27), (23, 27), (23, 26), (23, 25), (23, 24), (23, 23), (24, 23), (25, 23), (25, 22), (25, 21), (24, 21), (23, 21), (23, 20), (23, 19), (23, 18), (23, 17), (23, 16), (23, 15), (24, 15), (25, 15), (26, 15), (27, 15), (28, 15), (29, 15), (29, 16), (29, 17), (30, 17), (31, 17), (31, 16), (31, 15), (32, 15), (33, 15), (33, 16), (33, 17), (33, 18), (33, 19), (33, 20), (33, 21), (33, 22), (33, 23), (33, 24), (33, 25), (33, 26), (33, 27), (33, 28), (33, 29), (32, 29), (31, 29), (31, 30), (31, 31), (32, 31), (33, 31), (33, 32), (33, 33), (33, 34), (33, 35), (34, 35), (35, 35)])\n",
      "('open', [(21, 1), (20, 1), (20, 2), (20, 3), (20, 4), (20, 5), (20, 6), (20, 7), (20, 8), (20, 9), (20, 10), (20, 11), (20, 12), (20, 13), (20, 14), (19, 14), (18, 14), (17, 14), (16, 14), (15, 14), (14, 14), (13, 14), (12, 14), (11, 14), (10, 14), (9, 14), (9, 15), (9, 16), (9, 17), (9, 18), (8, 18), (8, 19), (7, 19), (6, 19), (6, 20), (6, 21), (6, 22), (6, 23), (6, 24), (6, 25), (6, 26), (6, 27), (6, 28), (5, 28), (4, 28), (3, 28), (3, 29), (3, 30), (3, 31), (3, 32), (3, 33), (2, 33), (1, 33), (1, 34), (1, 35)])\n",
      "('empty', [(2, 9), (2, 8), (3, 8), (4, 8), (4, 7), (4, 6), (5, 6), (5, 5), (5, 4), (6, 4), (7, 4), (7, 3), (7, 2), (8, 2), (9, 2)])\n",
      "('wall', [(2, 9), (2, 8), (3, 8), (4, 8), (5, 8), (6, 8), (7, 8), (8, 8), (8, 7), (9, 7), (9, 6), (9, 5), (9, 4), (9, 3), (9, 2)])\n",
      "('loops', [(1, 1), (2, 1), (2, 2), (2, 3), (2, 4), (2, 5), (2, 6), (2, 7), (2, 8), (3, 8), (4, 8), (5, 8), (6, 8), (7, 8), (8, 8), (9, 8), (10, 8), (10, 7), (10, 6), (10, 5), (10, 4), (10, 3), (10, 2), (10, 1)])\n"
     ]
    },
    {
     "data": {
      "text/html": [
       "<div>\n",
       "<style scoped>\n",
       "    .dataframe tbody tr th:only-of-type {\n",
       "        vertical-align: middle;\n",
       "    }\n",
       "\n",
       "    .dataframe tbody tr th {\n",
       "        vertical-align: top;\n",
       "    }\n",
       "\n",
       "    .dataframe thead th {\n",
       "        text-align: right;\n",
       "    }\n",
       "</style>\n",
       "<table border=\"1\" class=\"dataframe\">\n",
       "  <thead>\n",
       "    <tr style=\"text-align: right;\">\n",
       "      <th></th>\n",
       "      <th>small</th>\n",
       "      <th>medium</th>\n",
       "      <th>large</th>\n",
       "      <th>open</th>\n",
       "      <th>empty</th>\n",
       "      <th>wall</th>\n",
       "      <th>loops</th>\n",
       "    </tr>\n",
       "  </thead>\n",
       "  <tbody>\n",
       "    <tr>\n",
       "      <th>PATH COST</th>\n",
       "      <td>20.0</td>\n",
       "      <td>69.0</td>\n",
       "      <td>211.0</td>\n",
       "      <td>55.0</td>\n",
       "      <td>15.0</td>\n",
       "      <td>15.0</td>\n",
       "      <td>24.0</td>\n",
       "    </tr>\n",
       "    <tr>\n",
       "      <th>MAX FRONTIER</th>\n",
       "      <td>8.0</td>\n",
       "      <td>8.0</td>\n",
       "      <td>12.0</td>\n",
       "      <td>40.0</td>\n",
       "      <td>32.0</td>\n",
       "      <td>32.0</td>\n",
       "      <td>8.0</td>\n",
       "    </tr>\n",
       "    <tr>\n",
       "      <th>DEEPEST LAYER</th>\n",
       "      <td>19.0</td>\n",
       "      <td>68.0</td>\n",
       "      <td>210.0</td>\n",
       "      <td>54.0</td>\n",
       "      <td>14.0</td>\n",
       "      <td>14.0</td>\n",
       "      <td>23.0</td>\n",
       "    </tr>\n",
       "    <tr>\n",
       "      <th>NODES EXPANDED</th>\n",
       "      <td>53.0</td>\n",
       "      <td>221.0</td>\n",
       "      <td>549.0</td>\n",
       "      <td>534.0</td>\n",
       "      <td>63.0</td>\n",
       "      <td>56.0</td>\n",
       "      <td>58.0</td>\n",
       "    </tr>\n",
       "    <tr>\n",
       "      <th>TIME (ms)</th>\n",
       "      <td>184.5</td>\n",
       "      <td>221.5</td>\n",
       "      <td>378.2</td>\n",
       "      <td>601.9</td>\n",
       "      <td>229.8</td>\n",
       "      <td>177.3</td>\n",
       "      <td>177.8</td>\n",
       "    </tr>\n",
       "  </tbody>\n",
       "</table>\n",
       "</div>"
      ],
      "text/plain": [
       "                small  medium  large   open  empty   wall  loops\n",
       "PATH COST        20.0    69.0  211.0   55.0   15.0   15.0   24.0\n",
       "MAX FRONTIER      8.0     8.0   12.0   40.0   32.0   32.0    8.0\n",
       "DEEPEST LAYER    19.0    68.0  210.0   54.0   14.0   14.0   23.0\n",
       "NODES EXPANDED   53.0   221.0  549.0  534.0   63.0   56.0   58.0\n",
       "TIME (ms)       184.5   221.5  378.2  601.9  229.8  177.3  177.8"
      ]
     },
     "execution_count": 191,
     "metadata": {},
     "output_type": "execute_result"
    }
   ],
   "source": [
    "def runAStar(mazeList, mazeNames, verbose=True):\n",
    "    mazeResults = []\n",
    "    paths = []\n",
    "    for maze in mazeList:\n",
    "        AStar = Search('A*', verbose)\n",
    "        start = time.time()\n",
    "        values, path = AStar.search(maze)\n",
    "        totalTime = time.time() - start\n",
    "        values.append(round(totalTime*1000, 1))\n",
    "        mazeResults.append(np.array(values))\n",
    "        paths.append(path)\n",
    "    df = pd.DataFrame.from_records(data=np.array(mazeResults).T, columns=mazeNames)\n",
    "    df.rename(index={0:\"PATH COST\", 1:\"MAX FRONTIER\", 2:\"DEEPEST LAYER\", 3:\"NODES EXPANDED\", 4:\"TIME (ms)\"}, inplace=True)\n",
    "    if verbose: print(df)\n",
    "    allPaths = list(zip(mazeNames, paths))\n",
    "    if verbose: print('\\n', \"ALL PATHS:\")\n",
    "    if verbose: print(*allPaths, sep='\\n')\n",
    "    return df\n",
    "    \n",
    "runAStar(mazeStrs, mazes)"
   ]
  },
  {
   "cell_type": "markdown",
   "metadata": {},
   "source": [
    "Is this implementation complete and optimal? What is the time and space complexity?"
   ]
  },
  {
   "cell_type": "markdown",
   "metadata": {},
   "source": [
    "<b>A*</b> - A* search is optimal, given it uses an admissable heuristic. My heurisitic is admissible because it used the manhattan distance of the current node + depth of the layer in the tree to pick a node from the frontier. A* is complete if a solution exists. A* has a worst case time and space complexity of O(b<sup>d</sup>) beacause it stores all nodes it visits."
   ]
  },
  {
   "cell_type": "markdown",
   "metadata": {},
   "source": [
    "Don't forget to add a table that compares the following for the algorithms on the different mazes:\n",
    "\n",
    "* The solution and its path cost\n",
    "* Number of nodes expanded\n",
    "* Maximum tree depth searched\n",
    "* Maximum size of the frontier."
   ]
  },
  {
   "cell_type": "code",
   "execution_count": 215,
   "metadata": {},
   "outputs": [
    {
     "name": "stdout",
     "output_type": "stream",
     "text": [
      "SEARCH TYPE: BFS\n",
      "                small  medium  large   open  empty  wall  loops        mean  \\\n",
      "PATH COST        20.0    69.0  211.0   55.0   15.0  15.0   24.0   58.428571   \n",
      "MAX FRONTIER      9.0     9.0    8.0   45.0   21.0  18.0   10.0   17.142857   \n",
      "DEEPEST LAYER    19.0    68.0  210.0   54.0   14.0  14.0   23.0   57.428571   \n",
      "NODES EXPANDED   90.0   266.0  619.0  681.0   93.0  86.0   70.0  272.142857   \n",
      "TIME (ms)         2.5    14.1   74.0   57.9    4.5   5.3    2.4   22.957143   \n",
      "\n",
      "                       std  \n",
      "PATH COST        65.285871  \n",
      "MAX FRONTIER     12.298996  \n",
      "DEEPEST LAYER    65.285871  \n",
      "NODES EXPANDED  247.354822  \n",
      "TIME (ms)        27.770378   \n",
      "\n",
      "SEARCH TYPE: DFS\n",
      "                small  medium  large   open  empty  wall  loops        mean  \\\n",
      "PATH COST        30.0    69.0  211.0  165.0   37.0  29.0   24.0   80.714286   \n",
      "MAX FRONTIER      6.0     7.0   34.0  230.0   49.0  32.0   10.0   52.571429   \n",
      "DEEPEST LAYER    48.0    68.0  210.0  184.0   39.0  28.0   23.0   85.714286   \n",
      "NODES EXPANDED   74.0    68.0  395.0  546.0   85.0  37.0   25.0  175.714286   \n",
      "TIME (ms)         3.1     4.7   52.2  162.0    6.1   2.6    1.1   33.114286   \n",
      "\n",
      "                       std  \n",
      "PATH COST        70.294715  \n",
      "MAX FRONTIER     73.988140  \n",
      "DEEPEST LAYER    72.001417  \n",
      "NODES EXPANDED  191.733233  \n",
      "TIME (ms)        55.252445   \n",
      "\n",
      "SEARCH TYPE: IDS\n",
      "                small  medium   large    open  empty  wall  loops  \\\n",
      "PATH COST        20.0    69.0   211.0    55.0   15.0  15.0   24.0   \n",
      "MAX FRONTIER      9.0     9.0     9.0    45.0   21.0  18.0   11.0   \n",
      "DEEPEST LAYER    19.0    68.0   210.0    54.0   14.0  14.0   23.0   \n",
      "NODES EXPANDED   89.0   268.0   616.0   682.0   93.0  86.0   70.0   \n",
      "TIME (ms)        22.3   423.2  6591.7  1720.2   34.3  28.0   30.1   \n",
      "\n",
      "                       mean          std  \n",
      "PATH COST         58.428571    65.285871  \n",
      "MAX FRONTIER      17.428571    12.116779  \n",
      "DEEPEST LAYER     57.428571    65.285871  \n",
      "NODES EXPANDED   272.000000   247.092233  \n",
      "TIME (ms)       1264.257143  2248.924699   \n",
      "\n",
      "SEARCH TYPE: GBFS\n",
      "                small  medium  large  open  empty  wall  loops        mean  \\\n",
      "PATH COST        30.0   153.0  211.0  69.0   15.0  17.0   38.0   76.142857   \n",
      "MAX FRONTIER      5.0     8.0   22.0  95.0   28.0  28.0   13.0   28.428571   \n",
      "DEEPEST LAYER    29.0   152.0  210.0  68.0   14.0  16.0   37.0   75.142857   \n",
      "NODES EXPANDED   39.0   157.0  461.0  84.0   14.0  21.0   51.0  118.142857   \n",
      "TIME (ms)         1.9    19.9   60.8  19.1    1.4   2.0    3.5   15.514286   \n",
      "\n",
      "                       std  \n",
      "PATH COST        70.675170  \n",
      "MAX FRONTIER     28.479853  \n",
      "DEEPEST LAYER    70.675170  \n",
      "NODES EXPANDED  147.008677  \n",
      "TIME (ms)        19.980092   \n",
      "\n",
      "SEARCH TYPE: A*\n",
      "                small  medium  large   open  empty  wall  loops        mean  \\\n",
      "PATH COST        20.0    69.0  211.0   55.0   15.0  15.0   24.0   58.428571   \n",
      "MAX FRONTIER      8.0     8.0   12.0   40.0   32.0  32.0    8.0   20.000000   \n",
      "DEEPEST LAYER    19.0    68.0  210.0   54.0   14.0  14.0   23.0   57.428571   \n",
      "NODES EXPANDED   53.0   221.0  549.0  535.0   63.0  56.0   57.0  219.142857   \n",
      "TIME (ms)         3.6    33.0  199.0  411.4   19.9  48.1    5.1  102.871429   \n",
      "\n",
      "                       std  \n",
      "PATH COST        65.285871  \n",
      "MAX FRONTIER     13.005493  \n",
      "DEEPEST LAYER    65.285871  \n",
      "NODES EXPANDED  211.614494  \n",
      "TIME (ms)       140.717972   \n",
      "\n"
     ]
    }
   ],
   "source": [
    "mazes = ['small', 'medium', 'large', 'open', 'empty', 'wall', 'loops']\n",
    "searches = ['BFS', 'DFS', 'IDS', 'GBFS', 'A*']\n",
    "mazeStrs = []\n",
    "for m in mazes:\n",
    "    f = open('{}_maze.txt'.format(m), 'r')\n",
    "    mazeStrs.append(f.read())\n",
    "\n",
    "tables = []\n",
    "tables.append(runBFS(mazeStrs, mazes, verbose=False))\n",
    "tables.append(runDFS(mazeStrs, mazes, verbose=False))\n",
    "tables.append(runIDS(mazeStrs, mazes, verbose=False))\n",
    "tables.append(runGBFS(mazeStrs, mazes, verbose=False))\n",
    "tables.append(runAStar(mazeStrs, mazes, verbose=False))\n",
    "for df, search in zip(tables, searches):\n",
    "    print(\"SEARCH TYPE:\", search)\n",
    "    df['mean'] = df.mean(axis=1)\n",
    "    df['std'] = df.std(axis=1)\n",
    "    print(df, '\\n')"
   ]
  },
  {
   "cell_type": "code",
   "execution_count": 242,
   "metadata": {},
   "outputs": [
    {
     "name": "stdout",
     "output_type": "stream",
     "text": [
      "\n",
      " TABLE OF ALL SEARCH MEAN VALUES: \n",
      "                        BFS         DFS          IDS        GBFS          A*\n",
      "PATH COST        58.428571   80.714286    58.428571   76.142857   58.428571\n",
      "MAX FRONTIER     17.142857   52.571429    17.428571   28.428571   20.000000\n",
      "DEEPEST LAYER    57.428571   85.714286    57.428571   75.142857   57.428571\n",
      "NODES EXPANDED  272.142857  175.714286   272.000000  118.142857  219.142857\n",
      "TIME (ms)        22.957143   33.114286  1264.257143   15.514286  102.871429\n",
      "\n",
      " TABLE OF ALL SEARCH STANDARD DEVIATION VALUES: \n",
      "                        BFS         DFS          IDS        GBFS          A*\n",
      "PATH COST        65.285871   70.294715    65.285871   70.675170   65.285871\n",
      "MAX FRONTIER     12.298996   73.988140    12.116779   28.479853   13.005493\n",
      "DEEPEST LAYER    65.285871   72.001417    65.285871   70.675170   65.285871\n",
      "NODES EXPANDED  247.354822  191.733233   247.092233  147.008677  211.614494\n",
      "TIME (ms)        27.770378   55.252445  2248.924699   19.980092  140.717972\n",
      "\n",
      " MEAN VALUES ACROSS ALL SEARCHES: \n",
      "                 small  medium    large    open  empty  wall  loops  \\\n",
      "DEEPEST LAYER   26.80   84.80   210.00   82.80  19.00  17.2  25.80   \n",
      "MAX FRONTIER     7.40    8.20    17.00   91.00  30.20  25.6  10.40   \n",
      "NODES EXPANDED  69.00  196.00   528.00  505.60  69.60  57.2  54.60   \n",
      "PATH COST       24.00   85.80   211.00   79.80  19.40  18.2  26.80   \n",
      "TIME (ms)        6.68   98.98  1395.54  474.12  13.24  17.2   8.44   \n",
      "\n",
      "                      mean         std  \n",
      "DEEPEST LAYER    66.628571   67.706840  \n",
      "MAX FRONTIER     27.114286   27.977852  \n",
      "NODES EXPANDED  211.428571  208.960692  \n",
      "PATH COST        66.428571   67.365499  \n",
      "TIME (ms)       287.742857  498.529117  \n",
      "\n",
      " STANDARD DEVIATION VALUES ACROSS ALL SEARCHES: \n",
      "                     small      medium        large        open      empty  \\\n",
      "DEEPEST LAYER   12.617448   37.565942     0.000000   56.896397  11.180340   \n",
      "MAX FRONTIER     1.816590    0.836660    11.000000   80.885722  11.519549   \n",
      "NODES EXPANDED  22.483327   84.578366    98.290386  246.031096  33.418558   \n",
      "PATH COST        5.477226   37.565942     0.000000   48.012498   9.838699   \n",
      "TIME (ms)        8.755113  181.534396  2905.354880  713.153270  13.742562   \n",
      "\n",
      "                     wall      loops        mean         std  \n",
      "DEEPEST LAYER    6.099180   6.260990   13.140372    3.348046  \n",
      "MAX FRONTIER     7.127412   1.816590   14.946981   26.640056  \n",
      "NODES EXPANDED  29.063723  18.501351   65.940062   42.041657  \n",
      "PATH COST        6.099180   6.260990   11.073041    2.850824  \n",
      "TIME (ms)       20.354729  12.197049  546.994784  979.672225  \n"
     ]
    }
   ],
   "source": [
    "# calculate stuff with tables list from previous cells\n",
    "\n",
    "meanDF = pd.DataFrame()\n",
    "stdDF = pd.DataFrame()\n",
    "for df, search in zip(tables, searches):\n",
    "    # find mean, std, regression of times for each row in each table\n",
    "    meanDF[search] = df['mean']\n",
    "    stdDF[search] = df['std']\n",
    "    \n",
    "print('\\n', \"TABLE OF ALL SEARCH MEAN VALUES:\", '\\n', meanDF)\n",
    "print('\\n', \"TABLE OF ALL SEARCH STANDARD DEVIATION VALUES:\", '\\n', stdDF)\n",
    "    \n",
    "\n",
    "# merging all tables data and finding general patterns among all search types and mazes\n",
    "df_concat = pd.concat(tables)\n",
    "by_row = df_concat.groupby(df_concat.index)\n",
    "df_means = by_row.mean()\n",
    "print('\\n', \"MEAN VALUES ACROSS ALL SEARCHES:\", '\\n', df_means)\n",
    "df_std = by_row.std()\n",
    "print('\\n', \"STANDARD DEVIATION VALUES ACROSS ALL SEARCHES:\", '\\n', df_std)"
   ]
  },
  {
   "cell_type": "code",
   "execution_count": 249,
   "metadata": {},
   "outputs": [
    {
     "data": {
      "image/png": "[encoded data removed]",
      "text/plain": [
       "<Figure size 432x288 with 1 Axes>"
      ]
     },
     "metadata": {
      "needs_background": "light"
     },
     "output_type": "display_data"
    },
    {
     "data": {
      "image/png": "[encoded data removed]",
      "text/plain": [
       "<Figure size 432x288 with 1 Axes>"
      ]
     },
     "metadata": {
      "needs_background": "light"
     },
     "output_type": "display_data"
    }
   ],
   "source": [
    "# bar plot of each mean and std dev for each search\n",
    "\n",
    "times = meanDF.loc['TIME (ms)', :]\n",
    "timesX = times.plot.bar(title=\"PLOT OF MEAN TIMES (ms)\")\n",
    "meanDFTemp = meanDF.drop(\"TIME (ms)\")\n",
    "ax = meanDFTemp.plot.bar(title=\"PLOT OF MEAN VALUES\")\n"
   ]
  },
  {
   "cell_type": "markdown",
   "metadata": {},
   "source": [
    "## Bonus Tasks [+1 point]\n",
    "\n",
    "Instead of defining each square as a state (which you probably did), use only intersections as states. Now the storage requirement is reduced, but the path length between two intersections can be different. If we use total path length in number of squares as path cost, how can we make sure that BFS and iterative deepening search is optimal? Change the code to do so."
   ]
  },
  {
   "cell_type": "code",
   "execution_count": 11,
   "metadata": {},
   "outputs": [],
   "source": [
    "# Your code/answer goes here"
   ]
  },
  {
   "cell_type": "markdown",
   "metadata": {},
   "source": [
    "Modify your A* search to add weights (see text book) and explore how different weights influence the result."
   ]
  },
  {
   "cell_type": "code",
   "execution_count": 12,
   "metadata": {},
   "outputs": [],
   "source": [
    "# Your code/answer goes here"
   ]
  },
  {
   "cell_type": "markdown",
   "metadata": {},
   "source": [
    "What happens if the agent does not know the layout of the maze in advance (i.e., faces an unkown, only partially observable environment)? How does the environment look then (PEAS description)? How would you implement a rational agent to solve the maze? What if the agent still has a GPS device to tell the distance to the goal?"
   ]
  },
  {
   "cell_type": "code",
   "execution_count": 13,
   "metadata": {},
   "outputs": [],
   "source": [
    "# Your code/answer goes here"
   ]
  }
 ],
 "metadata": {
  "kernelspec": {
   "display_name": "Python 3",
   "language": "python",
   "name": "python3"
  },
  "language_info": {
   "codemirror_mode": {
    "name": "ipython",
    "version": 3
   },
   "file_extension": ".py",
   "mimetype": "text/x-python",
   "name": "python",
   "nbconvert_exporter": "python",
   "pygments_lexer": "ipython3",
   "version": "3.7.1"
  }
 },
 "nbformat": 4,
 "nbformat_minor": 4
}
