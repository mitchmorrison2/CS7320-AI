{
 "cells": [
  {
   "cell_type": "markdown",
   "metadata": {},
   "source": [
    "# Intelligent Agents: Vacuum-cleaner World\n",
    "\n",
    "Implement a simulator environment for a vacuum-cleaner world and a set of intelligent agents.\n",
    "\n",
    "## PEAS description\n",
    "\n",
    "__Performance Measure:__ Each action costs 1. The performance is measured as the sum of the cost to clean the whole environment.\n",
    "\n",
    "__Environment:__ A room with $n \\times n$ squares where $n = 5$. Dirt is randomly placed on each square with probability $p = 0.2$. For simplicity, you can assume that the agent knows the size of the layout of the room (i.e., it knows n and where it starts).\n",
    "\n",
    "__Actuators:__ The agent can `clean` the current square or move to an adjacent square by going `north`, `east`, `west`, or `south`.\n",
    "\n",
    "__Sensors:__ Four bumper sensors, one for `north`, `east`, `west`, and `south`; a dirt sensor reporting dirt in the current square.  \n",
    "\n",
    "The easiest implementation for the environment is to hold an 2-dimensional array to represent if squares are clean or dirty and to call the agent function in a loop untill all squares are clean or a predefined number of steps have been reached.\n",
    "\n",
    "## Define the agent program for a simple randomized agent\n",
    "\n",
    "The agent program is a function that gets sensor information (the current percepts) as the arguments. The arguments are:\n",
    "\n",
    "* A dictonary with boolean entries for the for bumper sensors `north`, `east`, `west`, `south`; not specified bumpers are assumed to be `False`. E.g., if the agent is on the north-west corner, `bumpers` gets `{\"north\" : True, \"west\" : True}` or if the agent is not close to a border then it gets `{}`.\n",
    "* The dirt sensor produces a boolean.\n",
    "\n",
    "The agent returns the chosen action as a string.\n",
    "\n",
    "Here is an example implementation for the agent program of a simple randomized agent:  "
   ]
  },
  {
   "cell_type": "code",
   "execution_count": 2,
   "metadata": {},
   "outputs": [],
   "source": [
    "from numpy import random\n",
    "\n",
    "actions = [\"north\", \"east\", \"west\", \"south\", \"suck\"]\n",
    "\n",
    "\n",
    "def simple_randomized_agent(bumpers, dirty):\n",
    "    return random.choice(actions)"
   ]
  },
  {
   "cell_type": "code",
   "execution_count": 3,
   "metadata": {},
   "outputs": [
    {
     "data": {
      "text/plain": [
       "'west'"
      ]
     },
     "execution_count": 3,
     "metadata": {},
     "output_type": "execute_result"
    }
   ],
   "source": [
    "simple_randomized_agent({\"north\" : True}, True)"
   ]
  },
  {
   "cell_type": "markdown",
   "metadata": {},
   "source": [
    "## Simple environment example\n",
    "\n",
    "The environment is infinite in size (bumpers are always `False`) and every square is dirty. We run the agent for 10 times steps."
   ]
  },
  {
   "cell_type": "code",
   "execution_count": 4,
   "metadata": {},
   "outputs": [
    {
     "name": "stdout",
     "output_type": "stream",
     "text": [
      "north\n",
      "suck\n",
      "suck\n",
      "east\n",
      "west\n",
      "east\n",
      "south\n",
      "south\n",
      "east\n",
      "south\n"
     ]
    }
   ],
   "source": [
    "for i in range(10):\n",
    "    print(simple_randomized_agent({\"north\" : False, \"south\" : False, \"west\" : False, \"east\" : False}, True))"
   ]
  },
  {
   "cell_type": "markdown",
   "metadata": {},
   "source": [
    "# Tasks\n",
    "\n",
    "_Submission Instructions:_ Use this notebook to prepare your submission. Complete this section with your code and results. You can use Markdown blocks for your description, comments in the code and use mathplotlib to produce charts. If you use external code files then you can include them with \n",
    "\n",
    "```\n",
    "from notebook import psource\n",
    "psource(\"your_file.py\")\n",
    "```\n",
    "\n",
    "_Note:_ Try to keep the code simple! In this couse, we want to learn about the algorithms and we often do not need to use object-oriented design. \n",
    "\n",
    "\n",
    "## Task 1: Implement a simulation environment\n",
    "\n",
    "Your environment simulator needs to create squares, make some dirty, and proivde the agent function with the sensor inputs. The environment needs to evaluate the performance measure. It needs to track the agent's actions until all dirty squares are clean and count the number of actions it takes the agent to complete the task.\n",
    "\n",
    "The simulation environment needs to work with the simple randomized agent program from above."
   ]
  },
  {
   "cell_type": "code",
   "execution_count": 218,
   "metadata": {
    "scrolled": true
   },
   "outputs": [],
   "source": [
    "import numpy as np\n",
    "import random\n",
    "import matplotlib.pyplot as plt\n",
    "    \n",
    "MAX = 500000\n",
    "N = 100\n",
    "    \n",
    "def environment(agent, n=SIZE, p=.2, max=MAX, verbose=True):\n",
    "    floor = np.random.choice(a=[True, False], size=(SIZE,SIZE), p=[p, 1-p])\n",
    "    remaining = np.sum(floor)\n",
    "    if (verbose):\n",
    "        print(\"Board:\\n\", floor)\n",
    "        print(\"Squares to clean:\", remaining)\n",
    "    \n",
    "    global loc\n",
    "    loc = [0, 0]\n",
    "\n",
    "    steps = 0\n",
    "    if remaining != 0:\n",
    "        for i in range(max): \n",
    "\n",
    "            bumpers = {\n",
    "                \"north\" : loc[1] == 0,\n",
    "                \"east\" : loc[0] == n-1,\n",
    "                \"south\" : loc[1] == n-1,\n",
    "                \"west\" : loc[0] == 0\n",
    "            }\n",
    "\n",
    "            dirty = floor[loc[0], loc[1]]\n",
    "\n",
    "            if verbose:\n",
    "                print('steps:', i)\n",
    "                print('loc:', loc)\n",
    "                print('dirty:', dirty)\n",
    "                print('bumpers:', bumpers)\n",
    "            steps = i\n",
    "\n",
    "            action = agent(bumpers, dirty)\n",
    "            if verbose: print(\"action:\", action, '\\n')\n",
    "\n",
    "            if (action == \"north\" and loc[1] > 0): loc[1] = loc[1] - 1\n",
    "            elif (action == \"south\" and loc[1] < (n-1)): loc[1] = loc[1] + 1\n",
    "            elif (action == \"east\" and loc[0] < (n-1)): loc[0] = loc[0] + 1\n",
    "            elif (action == \"west\" and loc[0] > 0): loc[0] = loc[0] - 1\n",
    "            elif (action == \"suck\" and dirty): \n",
    "                floor[loc[0], loc[1]] = False\n",
    "                remaining = remaining - 1\n",
    "                if verbose: print(\"Squares left:\", remaining)\n",
    "                if remaining == 0: break \n",
    "    return steps\n",
    "    \n"
   ]
  },
  {
   "cell_type": "markdown",
   "metadata": {},
   "source": [
    "## Task 2:  Implement a simple reflex agent\n",
    "\n",
    "The simple reflex agent randomly walks around but reacts to the bumper sensor by not bumping into the wall and to dirt with sucking."
   ]
  },
  {
   "cell_type": "code",
   "execution_count": 219,
   "metadata": {},
   "outputs": [],
   "source": [
    "def simple_reflex_agent(bumpers, dirty):\n",
    "    if (dirty): return 'suck'\n",
    "    else: \n",
    "        # if bumpers[key] == True exclude from options list\n",
    "        options = [i for i in bumpers.keys() if bumpers[i] is False]\n",
    "        choice = random.choice(options)\n",
    "        return choice"
   ]
  },
  {
   "cell_type": "code",
   "execution_count": 220,
   "metadata": {},
   "outputs": [],
   "source": [
    "def chart_iterations(agentFunc, size):\n",
    "    global SIZE\n",
    "    SIZE = size\n",
    "    steps = np.repeat(0,N)\n",
    "    global visited\n",
    "    visited = np.random.choice(a=[0, 1], size=(SIZE,SIZE), p=[1, 0])\n",
    "    for i in range(N):\n",
    "        steps[i] = environment(agentFunc, n=SIZE, verbose=False)\n",
    "\n",
    "    print(\"Mean:\", np.mean(steps))\n",
    "    plt.hist(steps, bins = 10)\n",
    "    plt.xlabel(\"steps\")\n",
    "    plt.ylabel(\"frequency\")\n",
    "    return plt.show()\n"
   ]
  },
  {
   "cell_type": "markdown",
   "metadata": {},
   "source": [
    "## Task 3: Implement a model-based reflex agent \n",
    "\n",
    "This agent keeps track of the location and remembers where it has cleaned. Assume the agent knows how many squares the room has and where it starts. It can now use more advanced navigation.\n",
    "\n",
    "How will your agent perform if it is put into a larger room, if the room contains obstacles, or it starts in a random square?"
   ]
  },
  {
   "cell_type": "code",
   "execution_count": 221,
   "metadata": {},
   "outputs": [],
   "source": [
    "# since the agent knows the floor it can navigate all squares easily\n",
    "# object detection and avoidance is \n",
    "def model_based_agent(bumpers, dirty):\n",
    "    # visited[loc[1], loc[0]] = 1\n",
    "    # simple reflex to return suck if dirty\n",
    "    if dirty: return 'suck'\n",
    "    else:\n",
    "        # logic to navigate board in least steps possible\n",
    "        if loc[0] % 2 == 0:\n",
    "            # even columns go down\n",
    "            if bumpers[\"south\"]:\n",
    "                #if on last row go east\n",
    "                return \"east\"\n",
    "            return \"south\" \n",
    "        else:\n",
    "            # odd columns go up\n",
    "            if bumpers[\"north\"]:\n",
    "                #if on last row go east\n",
    "                return \"east\"\n",
    "            return \"north\"        "
   ]
  },
  {
   "cell_type": "code",
   "execution_count": 223,
   "metadata": {},
   "outputs": [
    {
     "ename": "SyntaxError",
     "evalue": "invalid syntax (<ipython-input-223-0301366057f8>, line 1)",
     "output_type": "error",
     "traceback": [
      "\u001b[0;36m  File \u001b[0;32m\"<ipython-input-223-0301366057f8>\"\u001b[0;36m, line \u001b[0;32m1\u001b[0m\n\u001b[0;31m    This agent will fail\u001b[0m\n\u001b[0m             ^\u001b[0m\n\u001b[0;31mSyntaxError\u001b[0m\u001b[0;31m:\u001b[0m invalid syntax\n"
     ]
    }
   ],
   "source": [
    "# This agent will always touch each square only once with exception to the squares that are dirty because it requires more than just one action.\n",
    "# If the room expands, it does not affect the performance of the agent as it is linear based on the amount of squares that exist.\n",
    "# Obstacles would absoultely wreck this agent. A single obstacle would keep it from cleaning all subsequent spaces.\n",
    "# If it starts in a random space, it can navigate back to (0,0) by going North until its bumper says true then navigating West to the NW corner."
   ]
  },
  {
   "cell_type": "markdown",
   "metadata": {},
   "source": [
    "## Task 4: Simulation study\n",
    "\n",
    "Compare the performance of the agents using different size environments. E.g., $5 \\times 5$, $10 \\times 10$ and\n",
    "$100 \\times 100$. Use at least 100 random runs for each."
   ]
  },
  {
   "cell_type": "code",
   "execution_count": 222,
   "metadata": {
    "scrolled": false
   },
   "outputs": [
    {
     "name": "stdout",
     "output_type": "stream",
     "text": [
      "Simple random agent - size  5 X 5\n",
      "454.12\n"
     ]
    },
    {
     "data": {
      "image/png": "[encoded data removed]",
      "text/plain": [
       "<Figure size 432x288 with 1 Axes>"
      ]
     },
     "metadata": {
      "needs_background": "light"
     },
     "output_type": "display_data"
    },
    {
     "name": "stdout",
     "output_type": "stream",
     "text": [
      "Simple reflex agent - size  5 X 5\n",
      "96.94\n"
     ]
    },
    {
     "data": {
      "image/png": "[encoded data removed]",
      "text/plain": [
       "<Figure size 432x288 with 1 Axes>"
      ]
     },
     "metadata": {
      "needs_background": "light"
     },
     "output_type": "display_data"
    },
    {
     "name": "stdout",
     "output_type": "stream",
     "text": [
      "Model based agent - size  5 X 5\n",
      "24.34\n"
     ]
    },
    {
     "data": {
      "image/png": "[encoded data removed]",
      "text/plain": [
       "<Figure size 432x288 with 1 Axes>"
      ]
     },
     "metadata": {
      "needs_background": "light"
     },
     "output_type": "display_data"
    },
    {
     "name": "stdout",
     "output_type": "stream",
     "text": [
      "Simple random agent - size  10 X 10\n",
      "3132.87\n"
     ]
    },
    {
     "data": {
      "image/png": "[encoded data removed]",
      "text/plain": [
       "<Figure size 432x288 with 1 Axes>"
      ]
     },
     "metadata": {
      "needs_background": "light"
     },
     "output_type": "display_data"
    },
    {
     "name": "stdout",
     "output_type": "stream",
     "text": [
      "Simple reflex agent - size  10 X 10\n",
      "918.27\n"
     ]
    },
    {
     "data": {
      "image/png": "[encoded data removed]",
      "text/plain": [
       "<Figure size 432x288 with 1 Axes>"
      ]
     },
     "metadata": {
      "needs_background": "light"
     },
     "output_type": "display_data"
    },
    {
     "name": "stdout",
     "output_type": "stream",
     "text": [
      "Model based agent - size  10 X 10\n",
      "113.97\n"
     ]
    },
    {
     "data": {
      "image/png": "[encoded data removed]",
      "text/plain": [
       "<Figure size 432x288 with 1 Axes>"
      ]
     },
     "metadata": {
      "needs_background": "light"
     },
     "output_type": "display_data"
    },
    {
     "name": "stdout",
     "output_type": "stream",
     "text": [
      "Simple random agent - size  100 X 100\n",
      "499999.0\n"
     ]
    },
    {
     "data": {
      "image/png": "[encoded data removed]",
      "text/plain": [
       "<Figure size 432x288 with 1 Axes>"
      ]
     },
     "metadata": {
      "needs_background": "light"
     },
     "output_type": "display_data"
    },
    {
     "name": "stdout",
     "output_type": "stream",
     "text": [
      "Simple reflex agent - size  100 X 100\n",
      "347633.66\n"
     ]
    },
    {
     "data": {
      "image/png": "[encoded data removed]",
      "text/plain": [
       "<Figure size 432x288 with 1 Axes>"
      ]
     },
     "metadata": {
      "needs_background": "light"
     },
     "output_type": "display_data"
    },
    {
     "name": "stdout",
     "output_type": "stream",
     "text": [
      "Model based agent - size  100 X 100\n",
      "11994.26\n"
     ]
    },
    {
     "data": {
      "image/png": "[encoded data removed]",
      "text/plain": [
       "<Figure size 432x288 with 1 Axes>"
      ]
     },
     "metadata": {
      "needs_background": "light"
     },
     "output_type": "display_data"
    }
   ],
   "source": [
    "sizes = [5, 10, 100]\n",
    "\n",
    "for size in sizes: \n",
    "    print(\"Simple random agent - size \", size, \"X\", size)\n",
    "    chart_iterations(simple_randomized_agent, size)\n",
    "    print(\"Simple reflex agent - size \", size, \"X\", size)\n",
    "    chart_iterations(simple_reflex_agent, size)\n",
    "    print(\"Model based agent - size \", size, \"X\", size)\n",
    "    chart_iterations(model_based_agent, size)"
   ]
  },
  {
   "cell_type": "markdown",
   "metadata": {},
   "source": [
    "## Bonus tasks\n",
    "\n",
    "* __Obstacles:__ Add random obstacle squares that also trigger the bumper sensor. The agent does not know where the obstacles are. How does this change the performance?\n",
    "* __Unknown environment with obstacles:__ The agent does not know how large the environment is, where it starts or where the obstacles are.\n",
    "* __Utility-based agent:__ Change the environment, so each square has a fixed probability of getting dirty again. Give this information to the agent (as a 2-dimensional array of probabilities). Cleaning one dirty square produces the utility of 1. Implement a utility-based agent that maximizes the expected utility over a time horizon of 10000 time steps. This is very tricky!"
   ]
  },
  {
   "cell_type": "code",
   "execution_count": 212,
   "metadata": {},
   "outputs": [],
   "source": [
    "# Your code goes here"
   ]
  },
  {
   "cell_type": "code",
   "execution_count": null,
   "metadata": {},
   "outputs": [],
   "source": []
  }
 ],
 "metadata": {
  "kernelspec": {
   "display_name": "Python 3",
   "language": "python",
   "name": "python3"
  },
  "language_info": {
   "codemirror_mode": {
    "name": "ipython",
    "version": 3
   },
   "file_extension": ".py",
   "mimetype": "text/x-python",
   "name": "python",
   "nbconvert_exporter": "python",
   "pygments_lexer": "ipython3",
   "version": "3.7.1"
  }
 },
 "nbformat": 4,
 "nbformat_minor": 4
}
