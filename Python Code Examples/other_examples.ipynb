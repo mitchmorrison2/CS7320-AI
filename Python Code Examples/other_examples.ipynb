{
 "cells": [
  {
   "cell_type": "markdown",
   "metadata": {},
   "source": [
    "# How to store state information\n",
    "\n",
    "## Option 1: global variables \n",
    "\n",
    "One option is to use a global variable. Note that you need to state that you want to use the `global` state variable in the function.\n",
    "\n",
    "The agent in this example tries to move always to the next position if it receives the percept that the way is not blocked. Its actions are \"stay\" or \"advance\". The agent stores its own position in a global state variable."
   ]
  },
  {
   "cell_type": "code",
   "execution_count": 34,
   "metadata": {},
   "outputs": [],
   "source": [
    "import numpy as np\n",
    "\n",
    "# the state consists of two variables. I use the prefix state_\n",
    "state_position = 0\n",
    "state_name = \"The Agent\"\n",
    "\n",
    "def agent_program(percept_blocked):\n",
    "    global state_position\n",
    "    global state_name\n",
    "    \n",
    "    print(\"    \", state_name, \": My percept_blocked is\", percept_blocked, \"and I am now in position\", state_position)\n",
    "    \n",
    "    if percept_blocked: return(\"stay\")\n",
    "        \n",
    "    state_position = state_position + 1\n",
    "    \n",
    "    print(\"    \", state_name, \": I advance to position\", state_position) \n",
    "    \n",
    "    return(\"advance\")"
   ]
  },
  {
   "cell_type": "markdown",
   "metadata": {},
   "source": [
    "The environment may have its own state and produces. __Note:__ The agent and the environment do not share any variables (each has its own position variable) and only communicate with percepts and actions!"
   ]
  },
  {
   "cell_type": "code",
   "execution_count": 35,
   "metadata": {},
   "outputs": [
    {
     "name": "stdout",
     "output_type": "stream",
     "text": [
      "Step 0\n",
      "  Environment: Agent's action is in position 0 and is blocked False\n",
      "     The Agent : My percept_blocked is False and I am now in position 0\n",
      "     The Agent : I advance to position 1\n",
      "  Environment: Agent's action is advance\n",
      "  Environment: Agent is now in position 1\n",
      "Step 1\n",
      "  Environment: Agent's action is in position 1 and is blocked True\n",
      "     The Agent : My percept_blocked is True and I am now in position 1\n",
      "  Environment: Agent's action is stay\n",
      "  Environment: Agent is now in position 1\n",
      "Step 2\n",
      "  Environment: Agent's action is in position 1 and is blocked False\n",
      "     The Agent : My percept_blocked is False and I am now in position 1\n",
      "     The Agent : I advance to position 2\n",
      "  Environment: Agent's action is advance\n",
      "  Environment: Agent is now in position 2\n",
      "Step 3\n",
      "  Environment: Agent's action is in position 2 and is blocked True\n",
      "     The Agent : My percept_blocked is True and I am now in position 2\n",
      "  Environment: Agent's action is stay\n",
      "  Environment: Agent is now in position 2\n",
      "Step 4\n",
      "  Environment: Agent's action is in position 2 and is blocked True\n",
      "     The Agent : My percept_blocked is True and I am now in position 2\n",
      "  Environment: Agent's action is stay\n",
      "  Environment: Agent is now in position 2\n"
     ]
    }
   ],
   "source": [
    "def agent_environment(agent_act, n):   \n",
    "    agent_position = 0\n",
    "    \n",
    "    for i in range(n): \n",
    "        print(\"Step\", i)\n",
    "        \n",
    "        blocked = np.random.choice([True, False])\n",
    "        \n",
    "        print(\"  Environment: Agent's action is in position\", agent_position, \"and is blocked\", blocked)\n",
    "        \n",
    "        action = agent_act(percept_blocked = blocked)\n",
    "        \n",
    "        print(\"  Environment: Agent's action is\", action)\n",
    "        \n",
    "        if action == \"advance\" and not blocked:\n",
    "            agent_position = agent_position + 1\n",
    "            \n",
    "        print(\"  Environment: Agent is now in position\", agent_position)\n",
    "        \n",
    "agent_environment(agent_program, 5)"
   ]
  },
  {
   "cell_type": "markdown",
   "metadata": {},
   "source": [
    "__Note:__ The down-side is that you can only have one agent since the global variables are shared!\n",
    "\n",
    "\n",
    "## Option 2: Using a class\n",
    "\n",
    "This is the more flexible option. You can create and work with multiple agents at the same time and there is no need for global variables."
   ]
  },
  {
   "cell_type": "code",
   "execution_count": 36,
   "metadata": {},
   "outputs": [
    {
     "name": "stdout",
     "output_type": "stream",
     "text": [
      "Step 0\n",
      "  Environment: Agent's action is in position 0 and is blocked True\n",
      "     Agent 1 : My percept_blocked is True and I am now in position 0\n",
      "  Environment: Agent's action is stay\n",
      "  Environment: Agent is now in position 0\n",
      "Step 1\n",
      "  Environment: Agent's action is in position 0 and is blocked False\n",
      "     Agent 1 : My percept_blocked is False and I am now in position 0\n",
      "     Agent 1 : I advance to position 1\n",
      "  Environment: Agent's action is advance\n",
      "  Environment: Agent is now in position 1\n",
      "Step 2\n",
      "  Environment: Agent's action is in position 1 and is blocked True\n",
      "     Agent 1 : My percept_blocked is True and I am now in position 1\n",
      "  Environment: Agent's action is stay\n",
      "  Environment: Agent is now in position 1\n",
      "Step 3\n",
      "  Environment: Agent's action is in position 1 and is blocked True\n",
      "     Agent 1 : My percept_blocked is True and I am now in position 1\n",
      "  Environment: Agent's action is stay\n",
      "  Environment: Agent is now in position 1\n",
      "Step 4\n",
      "  Environment: Agent's action is in position 1 and is blocked True\n",
      "     Agent 1 : My percept_blocked is True and I am now in position 1\n",
      "  Environment: Agent's action is stay\n",
      "  Environment: Agent is now in position 1\n"
     ]
    }
   ],
   "source": [
    "class Agent:\n",
    "    def __init__(self, initial_position = 0, name = \"An Agent\"):\n",
    "        self.position = initial_position\n",
    "        self.name = name\n",
    "    \n",
    "    def act(self, percept_blocked):\n",
    "        print(\"    \", self.name, \": My percept_blocked is\", percept_blocked, \"and I am now in position\", self.position)\n",
    "    \n",
    "        if percept_blocked: return(\"stay\")\n",
    "        \n",
    "        self.position = self.position + 1\n",
    "        \n",
    "        print(\"    \", self.name, \": I advance to position\", self.position)  \n",
    "        \n",
    "        return(\"advance\")"
   ]
  },
  {
   "cell_type": "markdown",
   "metadata": {},
   "source": [
    "The environment does not change. We just supply the function (method) that implements the agent program."
   ]
  },
  {
   "cell_type": "code",
   "execution_count": 37,
   "metadata": {},
   "outputs": [
    {
     "name": "stdout",
     "output_type": "stream",
     "text": [
      "Step 0\n",
      "  Environment: Agent's action is in position 0 and is blocked False\n",
      "     Agent 1 : My percept_blocked is False and I am now in position 0\n",
      "     Agent 1 : I advance to position 1\n",
      "  Environment: Agent's action is advance\n",
      "  Environment: Agent is now in position 1\n",
      "Step 1\n",
      "  Environment: Agent's action is in position 1 and is blocked False\n",
      "     Agent 1 : My percept_blocked is False and I am now in position 1\n",
      "     Agent 1 : I advance to position 2\n",
      "  Environment: Agent's action is advance\n",
      "  Environment: Agent is now in position 2\n",
      "Step 2\n",
      "  Environment: Agent's action is in position 2 and is blocked False\n",
      "     Agent 1 : My percept_blocked is False and I am now in position 2\n",
      "     Agent 1 : I advance to position 3\n",
      "  Environment: Agent's action is advance\n",
      "  Environment: Agent is now in position 3\n",
      "Step 3\n",
      "  Environment: Agent's action is in position 3 and is blocked False\n",
      "     Agent 1 : My percept_blocked is False and I am now in position 3\n",
      "     Agent 1 : I advance to position 4\n",
      "  Environment: Agent's action is advance\n",
      "  Environment: Agent is now in position 4\n",
      "Step 4\n",
      "  Environment: Agent's action is in position 4 and is blocked True\n",
      "     Agent 1 : My percept_blocked is True and I am now in position 4\n",
      "  Environment: Agent's action is stay\n",
      "  Environment: Agent is now in position 4\n"
     ]
    }
   ],
   "source": [
    "agent_1 = Agent(name = \"Agent 1\") \n",
    "agent_environment(agent_1.act, 5)"
   ]
  },
  {
   "cell_type": "markdown",
   "metadata": {},
   "source": [
    "# Random numbers\n",
    "\n",
    "Random number generators are defined in package `numpy`. See: https://numpy.org/doc/stable/reference/random/\n",
    "\n",
    "The following example throws a fair coin where `True` represents head and `False` is tail (i.e., head is false)."
   ]
  },
  {
   "cell_type": "code",
   "execution_count": 31,
   "metadata": {},
   "outputs": [
    {
     "name": "stdout",
     "output_type": "stream",
     "text": [
      "False\n",
      "True\n",
      "True\n",
      "True\n",
      "True\n"
     ]
    }
   ],
   "source": [
    "import numpy as np  \n",
    "\n",
    "# initialize a new random number generator\n",
    "rng = np.random.default_rng()\n",
    "\n",
    "p = .5\n",
    "\n",
    "for i in range(5): print(rng.random() < p)"
   ]
  },
  {
   "cell_type": "markdown",
   "metadata": {},
   "source": [
    "A useful function is `random.choice`."
   ]
  },
  {
   "cell_type": "code",
   "execution_count": 5,
   "metadata": {},
   "outputs": [
    {
     "data": {
      "text/plain": [
       "array([False,  True, False, False,  True])"
      ]
     },
     "execution_count": 5,
     "metadata": {},
     "output_type": "execute_result"
    }
   ],
   "source": [
    "rng.choice([True, False], size = 5, p = [p, 1-p])"
   ]
  },
  {
   "cell_type": "markdown",
   "metadata": {},
   "source": [
    "# Multi-dimensional arrays\n",
    "\n",
    "Package `numpy` provides a convenient way to work with multi-dimensional arrays."
   ]
  },
  {
   "cell_type": "code",
   "execution_count": 66,
   "metadata": {},
   "outputs": [
    {
     "name": "stdout",
     "output_type": "stream",
     "text": [
      "[[1 2 3]\n",
      " [4 5 6]]\n"
     ]
    }
   ],
   "source": [
    "import numpy as np\n",
    "\n",
    "arr = np.array([[1, 2, 3], [4, 5, 6]])\n",
    "\n",
    "print(arr)"
   ]
  },
  {
   "cell_type": "code",
   "execution_count": 67,
   "metadata": {},
   "outputs": [
    {
     "data": {
      "text/plain": [
       "1"
      ]
     },
     "execution_count": 67,
     "metadata": {},
     "output_type": "execute_result"
    }
   ],
   "source": [
    "# access values using row and column index\n",
    "arr[0, 0]"
   ]
  },
  {
   "cell_type": "code",
   "execution_count": 68,
   "metadata": {},
   "outputs": [
    {
     "data": {
      "text/plain": [
       "21"
      ]
     },
     "execution_count": 68,
     "metadata": {},
     "output_type": "execute_result"
    }
   ],
   "source": [
    "# sum all elements of the array\n",
    "np.sum(arr)"
   ]
  },
  {
   "cell_type": "code",
   "execution_count": 69,
   "metadata": {},
   "outputs": [
    {
     "data": {
      "text/plain": [
       "array([ 9, 12, 15])"
      ]
     },
     "execution_count": 69,
     "metadata": {},
     "output_type": "execute_result"
    }
   ],
   "source": [
    "# dot product\n",
    "np.dot([1, 2], arr)"
   ]
  },
  {
   "cell_type": "code",
   "execution_count": 70,
   "metadata": {
    "scrolled": true
   },
   "outputs": [
    {
     "data": {
      "text/plain": [
       "array([[1, 2],\n",
       "       [3, 4],\n",
       "       [5, 6]])"
      ]
     },
     "execution_count": 70,
     "metadata": {},
     "output_type": "execute_result"
    }
   ],
   "source": [
    "# reshape array dimenstions\n",
    "newarr = arr.reshape(3, 2)\n",
    "newarr"
   ]
  },
  {
   "cell_type": "markdown",
   "metadata": {},
   "source": [
    "# Charts\n",
    "\n",
    "`matplotlib` can be used to create simple charts (histograms, line charts, etc.). See: https://matplotlib.org/"
   ]
  },
  {
   "cell_type": "code",
   "execution_count": 35,
   "metadata": {
    "scrolled": true
   },
   "outputs": [
    {
     "data": {
      "image/png": "[encoded data removed]",
      "text/plain": [
       "<Figure size 432x288 with 1 Axes>"
      ]
     },
     "metadata": {
      "needs_background": "light"
     },
     "output_type": "display_data"
    },
    {
     "data": {
      "image/png": "[encoded data removed]",
      "text/plain": [
       "<Figure size 432x288 with 1 Axes>"
      ]
     },
     "metadata": {
      "needs_background": "light"
     },
     "output_type": "display_data"
    },
    {
     "data": {
      "image/png": "[encoded data removed]",
      "text/plain": [
       "<Figure size 432x288 with 1 Axes>"
      ]
     },
     "metadata": {
      "needs_background": "light"
     },
     "output_type": "display_data"
    },
    {
     "data": {
      "image/png": "[encoded data removed]",
      "text/plain": [
       "<Figure size 432x288 with 1 Axes>"
      ]
     },
     "metadata": {
      "needs_background": "light"
     },
     "output_type": "display_data"
    }
   ],
   "source": [
    "# create some random performance data for 3 agents and 100 runs\n",
    "import numpy as np  \n",
    "\n",
    "performance = [np.random.normal(mean, 10, size=100) for mean in [100, 20, 40]]\n",
    "labels = ['agent 1', 'agent 2', 'agent 3']\n",
    "\n",
    "\n",
    "# plot\n",
    "import matplotlib.pyplot as plt\n",
    "\n",
    "# scatter plot\n",
    "x = performance[1]\n",
    "y = performance[2]\n",
    "plt.scatter(x, y) \n",
    "plt.xlabel(\"performance agent 1\")\n",
    "plt.ylabel(\"performance agent 2\")\n",
    "plt.show()\n",
    "\n",
    "# histogram\n",
    "plt.hist(x, bins = 20)\n",
    "plt.xlabel(\"performance agent 1\")\n",
    "plt.ylabel(\"frequency\")\n",
    "plt.show()\n",
    "\n",
    "# box plot \n",
    "bplot = plt.boxplot(performance,\n",
    "                     vert=True,  # vertical box alignment\n",
    "                     patch_artist=True,  # fill with color\n",
    "                     labels=labels)  # will be used to label x-ticks\n",
    "plt.ylabel(\"performance\")\n",
    "plt.show()\n",
    "\n",
    "\n",
    "# bar plot\n",
    "mean_performance = np.mean(performance, axis = 1)\n",
    "\n",
    "plt.bar(labels, mean_performance)\n",
    "plt.ylabel(\"mean performance\")\n",
    "plt.show()\n",
    "\n",
    "\n"
   ]
  },
  {
   "cell_type": "markdown",
   "metadata": {},
   "source": [
    "# Tables\n",
    "\n",
    "Markdown tables can be produced using markdown syntax (see https://www.markdownguide.org/extended-syntax/):\n",
    "\n",
    "```\n",
    "| x   | y    |\n",
    "| --- | ---- |\n",
    "| 1.1 | 12.3 |\n",
    "| 0.8 | 18.0 |\n",
    "```\n",
    "\n",
    "Here is the resulting table\n",
    "\n",
    "| x   | y    |\n",
    "| --- | ---- |\n",
    "| 1.1 | 12.3 |\n",
    "| 0.8 | 18.0 |"
   ]
  },
  {
   "cell_type": "markdown",
   "metadata": {},
   "source": [
    "Tables in code can be printed in several ways. The easiest is to use `pandas` dataframes. Unfortunately, it cannot print custom row names."
   ]
  },
  {
   "cell_type": "code",
   "execution_count": 13,
   "metadata": {},
   "outputs": [
    {
     "name": "stdout",
     "output_type": "stream",
     "text": [
      "[[1 2]\n",
      " [3 4]\n",
      " [5 6]]\n"
     ]
    }
   ],
   "source": [
    "import numpy as np\n",
    "\n",
    "data = np.array([[1, 2], [3 ,4], [5, 6]])\n",
    "\n",
    "print(data)\n",
    "\n"
   ]
  },
  {
   "cell_type": "code",
   "execution_count": 17,
   "metadata": {},
   "outputs": [
    {
     "data": {
      "text/html": [
       "<div>\n",
       "<style scoped>\n",
       "    .dataframe tbody tr th:only-of-type {\n",
       "        vertical-align: middle;\n",
       "    }\n",
       "\n",
       "    .dataframe tbody tr th {\n",
       "        vertical-align: top;\n",
       "    }\n",
       "\n",
       "    .dataframe thead th {\n",
       "        text-align: right;\n",
       "    }\n",
       "</style>\n",
       "<table border=\"1\" class=\"dataframe\">\n",
       "  <thead>\n",
       "    <tr style=\"text-align: right;\">\n",
       "      <th></th>\n",
       "      <th>x</th>\n",
       "      <th>y</th>\n",
       "    </tr>\n",
       "  </thead>\n",
       "  <tbody>\n",
       "    <tr>\n",
       "      <th>0</th>\n",
       "      <td>1</td>\n",
       "      <td>2</td>\n",
       "    </tr>\n",
       "    <tr>\n",
       "      <th>1</th>\n",
       "      <td>3</td>\n",
       "      <td>4</td>\n",
       "    </tr>\n",
       "    <tr>\n",
       "      <th>2</th>\n",
       "      <td>5</td>\n",
       "      <td>6</td>\n",
       "    </tr>\n",
       "  </tbody>\n",
       "</table>\n",
       "</div>"
      ],
      "text/plain": [
       "   x  y\n",
       "0  1  2\n",
       "1  3  4\n",
       "2  5  6"
      ]
     },
     "execution_count": 17,
     "metadata": {},
     "output_type": "execute_result"
    }
   ],
   "source": [
    "import pandas as pd\n",
    "pd.DataFrame(data, columns=[\"x\", \"y\"])"
   ]
  },
  {
   "cell_type": "markdown",
   "metadata": {},
   "source": [
    "# Executing R code from a Python Notebook"
   ]
  },
  {
   "cell_type": "code",
   "execution_count": 26,
   "metadata": {},
   "outputs": [
    {
     "name": "stdout",
     "output_type": "stream",
     "text": [
      "The rpy2.ipython extension is already loaded. To reload it, use:\n",
      "  %reload_ext rpy2.ipython\n"
     ]
    },
    {
     "data": {
      "image/png": "[encoded data removed]"
     },
     "metadata": {},
     "output_type": "display_data"
    }
   ],
   "source": [
    "%load_ext rpy2.ipython\n",
    "\n",
    "import pandas as pd \n",
    "\n",
    "df = pd.DataFrame({\n",
    "'Letter': ['a', 'a', 'a', 'b', 'b', 'b', 'c', 'c', 'c'],\n",
    "'X': [4, 3, 5, 2, 1, 7, 7, 5, 9],\n",
    "'Y': [0, 4, 3, 6, 7, 10, 11, 9, 13],\n",
    "'Z': [1, 2, 3, 1, 2, 3, 1, 2, 3]\n",
    "})\n",
    "\n",
    "%R -i df plot(df[, c(\"X\", \"Y\")])\n"
   ]
  },
  {
   "cell_type": "code",
   "execution_count": null,
   "metadata": {},
   "outputs": [],
   "source": []
  }
 ],
 "metadata": {
  "kernelspec": {
   "display_name": "Python 3",
   "language": "python",
   "name": "python3"
  },
  "language_info": {
   "codemirror_mode": {
    "name": "ipython",
    "version": 3
   },
   "file_extension": ".py",
   "mimetype": "text/x-python",
   "name": "python",
   "nbconvert_exporter": "python",
   "pygments_lexer": "ipython3",
   "version": "3.8.5"
  }
 },
 "nbformat": 4,
 "nbformat_minor": 4
}
