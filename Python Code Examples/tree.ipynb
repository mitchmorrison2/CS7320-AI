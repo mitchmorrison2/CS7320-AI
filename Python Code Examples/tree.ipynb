{
 "cells": [
  {
   "cell_type": "markdown",
   "metadata": {},
   "source": [
    "# Using pyTree\n",
    "\n",
    "See https://github.com/yoyzhou/pyTree for documentation.\n",
    "\n",
    "You have to install pyTree using `pip install git+https://github.com/yoyzhou/pyTree.git`."
   ]
  },
  {
   "cell_type": "code",
   "execution_count": 46,
   "metadata": {},
   "outputs": [
    {
     "name": "stdout",
     "output_type": "stream",
     "text": [
      "Root\n",
      "|___ {'name': 'Node 0', 'loc': [0, 0]}\n",
      "|___ {'name': 'Node 1', 'loc': [0, 1]}\n"
     ]
    }
   ],
   "source": [
    "from pyTree.Tree import Tree as Tree\n",
    "\n",
    "#create the root\n",
    "root = Tree('Root')\n",
    "\n",
    "# add nodes (nodes are called Tree and data can store information)\n",
    "root.addChild(Tree(data = { \"name\": \"Node 0\", \"loc\": [0,0]}))\n",
    "root.addChild(Tree(data = { \"name\": \"Node 1\", \"loc\": [0,1]}))\n",
    "\n",
    "root.prettyTree()"
   ]
  },
  {
   "cell_type": "code",
   "execution_count": 47,
   "metadata": {},
   "outputs": [
    {
     "name": "stdout",
     "output_type": "stream",
     "text": [
      "{'name': 'Node 1', 'loc': [0, 1]}\n",
      "{'name': 'Node 0', 'loc': [0, 0]}\n"
     ]
    }
   ],
   "source": [
    "# you get references to nodes\n",
    "children = root.getChildren()\n",
    "\n",
    "print(children[0].data)\n",
    "print(children[1].data)"
   ]
  },
  {
   "cell_type": "code",
   "execution_count": 48,
   "metadata": {},
   "outputs": [
    {
     "name": "stdout",
     "output_type": "stream",
     "text": [
      "Root\n",
      "|___ {'name': 'Node 1', 'loc': [0, 1]}\n",
      "|     |___ {'name': 'Node 00', 'loc': [1, 0]}\n",
      "|___ {'name': 'Node 0', 'loc': [0, 0]}\n"
     ]
    }
   ],
   "source": [
    "node00 = Tree(data = { \"name\": \"Node 00\", \"loc\": [1,0]})\n",
    "children[0].addChild(node00)\n",
    "root.prettyTree()"
   ]
  },
  {
   "cell_type": "code",
   "execution_count": 49,
   "metadata": {},
   "outputs": [
    {
     "data": {
      "text/plain": [
       "{'name': 'Node 1', 'loc': [0, 1]}"
      ]
     },
     "execution_count": 49,
     "metadata": {},
     "output_type": "execute_result"
    }
   ],
   "source": [
    "# get parent\n",
    "node00.getParent().data"
   ]
  },
  {
   "cell_type": "code",
   "execution_count": 50,
   "metadata": {},
   "outputs": [
    {
     "name": "stdout",
     "output_type": "stream",
     "text": [
      "Root\n",
      "|___ {'name': 'Node 0', 'loc': [0, 0]}\n",
      "|___ {'name': 'Node 1', 'loc': [0, 1]}\n",
      "     |___ {'name': 'Node 00', 'loc': [2, 0]}\n"
     ]
    }
   ],
   "source": [
    "# since the name is a reference, this changes the node in the tree\n",
    "node00.data[\"loc\"] = [2,0]\n",
    "root.prettyTree()"
   ]
  },
  {
   "cell_type": "code",
   "execution_count": 51,
   "metadata": {},
   "outputs": [],
   "source": [
    "# a loop is probably not good for printing (don't do it)!\n",
    "node00.addChild(node00)\n",
    "#root.prettyTree()"
   ]
  }
 ],
 "metadata": {
  "kernelspec": {
   "display_name": "Python 3",
   "language": "python",
   "name": "python3"
  },
  "language_info": {
   "codemirror_mode": {
    "name": "ipython",
    "version": 3
   },
   "file_extension": ".py",
   "mimetype": "text/x-python",
   "name": "python",
   "nbconvert_exporter": "python",
   "pygments_lexer": "ipython3",
   "version": "3.8.5"
  }
 },
 "nbformat": 4,
 "nbformat_minor": 4
}
