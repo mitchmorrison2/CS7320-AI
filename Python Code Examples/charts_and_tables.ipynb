{
 "cells": [
  {
   "cell_type": "markdown",
   "metadata": {},
   "source": [
    "# Charts and Tables\n",
    "\n",
    "`matplotlib` can be used to create simple charts (histograms, line charts, etc.). See: https://matplotlib.org/\n",
    "\n",
    "`pandas` can be used for data frames (tables).\n",
    "\n",
    "## Create some data"
   ]
  },
  {
   "cell_type": "code",
   "execution_count": 10,
   "metadata": {
    "scrolled": false
   },
   "outputs": [
    {
     "data": {
      "text/html": [
       "<div>\n",
       "<style scoped>\n",
       "    .dataframe tbody tr th:only-of-type {\n",
       "        vertical-align: middle;\n",
       "    }\n",
       "\n",
       "    .dataframe tbody tr th {\n",
       "        vertical-align: top;\n",
       "    }\n",
       "\n",
       "    .dataframe thead th {\n",
       "        text-align: right;\n",
       "    }\n",
       "</style>\n",
       "<table border=\"1\" class=\"dataframe\">\n",
       "  <thead>\n",
       "    <tr style=\"text-align: right;\">\n",
       "      <th></th>\n",
       "      <th>agent 1</th>\n",
       "      <th>agent 2</th>\n",
       "      <th>agent 3</th>\n",
       "    </tr>\n",
       "  </thead>\n",
       "  <tbody>\n",
       "    <tr>\n",
       "      <th>0</th>\n",
       "      <td>-7.802091</td>\n",
       "      <td>14.630205</td>\n",
       "      <td>-11.679623</td>\n",
       "    </tr>\n",
       "    <tr>\n",
       "      <th>1</th>\n",
       "      <td>-0.787360</td>\n",
       "      <td>15.163978</td>\n",
       "      <td>6.089524</td>\n",
       "    </tr>\n",
       "    <tr>\n",
       "      <th>2</th>\n",
       "      <td>-2.064029</td>\n",
       "      <td>16.636955</td>\n",
       "      <td>-23.778030</td>\n",
       "    </tr>\n",
       "    <tr>\n",
       "      <th>3</th>\n",
       "      <td>-5.559786</td>\n",
       "      <td>13.214218</td>\n",
       "      <td>8.408119</td>\n",
       "    </tr>\n",
       "    <tr>\n",
       "      <th>4</th>\n",
       "      <td>0.759811</td>\n",
       "      <td>-20.925207</td>\n",
       "      <td>8.161285</td>\n",
       "    </tr>\n",
       "    <tr>\n",
       "      <th>...</th>\n",
       "      <td>...</td>\n",
       "      <td>...</td>\n",
       "      <td>...</td>\n",
       "    </tr>\n",
       "    <tr>\n",
       "      <th>95</th>\n",
       "      <td>101.348987</td>\n",
       "      <td>350.509125</td>\n",
       "      <td>65.186141</td>\n",
       "    </tr>\n",
       "    <tr>\n",
       "      <th>96</th>\n",
       "      <td>84.423029</td>\n",
       "      <td>374.058489</td>\n",
       "      <td>68.562616</td>\n",
       "    </tr>\n",
       "    <tr>\n",
       "      <th>97</th>\n",
       "      <td>100.025792</td>\n",
       "      <td>377.219186</td>\n",
       "      <td>73.035289</td>\n",
       "    </tr>\n",
       "    <tr>\n",
       "      <th>98</th>\n",
       "      <td>94.758717</td>\n",
       "      <td>393.155916</td>\n",
       "      <td>66.020240</td>\n",
       "    </tr>\n",
       "    <tr>\n",
       "      <th>99</th>\n",
       "      <td>114.854484</td>\n",
       "      <td>395.062381</td>\n",
       "      <td>57.098361</td>\n",
       "    </tr>\n",
       "  </tbody>\n",
       "</table>\n",
       "<p>100 rows × 3 columns</p>\n",
       "</div>"
      ],
      "text/plain": [
       "       agent 1     agent 2    agent 3\n",
       "0    -7.802091   14.630205 -11.679623\n",
       "1    -0.787360   15.163978   6.089524\n",
       "2    -2.064029   16.636955 -23.778030\n",
       "3    -5.559786   13.214218   8.408119\n",
       "4     0.759811  -20.925207   8.161285\n",
       "..         ...         ...        ...\n",
       "95  101.348987  350.509125  65.186141\n",
       "96   84.423029  374.058489  68.562616\n",
       "97  100.025792  377.219186  73.035289\n",
       "98   94.758717  393.155916  66.020240\n",
       "99  114.854484  395.062381  57.098361\n",
       "\n",
       "[100 rows x 3 columns]"
      ]
     },
     "execution_count": 10,
     "metadata": {},
     "output_type": "execute_result"
    }
   ],
   "source": [
    "import numpy as np  \n",
    "import pandas as pd\n",
    "import matplotlib.pyplot as plt\n",
    "\n",
    "\n",
    "# create some artificial performance data for 3 agents and 100 runs of a O(n^2) algorithm \n",
    "# create data for problem size n = 1 .. 100.\n",
    "n_max = 100\n",
    "runtime = {\n",
    "    \"agent 1\" : np.add(np.power(np.divide(range(n_max), 10), 2), np.random.normal(loc = 0, scale = 10, size = n_max)),\n",
    "    \"agent 2\" : np.add(np.power(np.divide(range(n_max),  5), 2), np.random.normal(loc = 0 , scale = 10, size = n_max)),\n",
    "    \"agent 3\" : np.add(np.power(np.divide(range(n_max), 12), 2), np.random.normal(loc = 0 , scale = 10, size = n_max))\n",
    "}\n",
    "\n",
    "# show data as a data frame using pandas\n",
    "df = pd.DataFrame(runtime)\n",
    "df"
   ]
  },
  {
   "cell_type": "code",
   "execution_count": 11,
   "metadata": {},
   "outputs": [
    {
     "data": {
      "text/html": [
       "<div>\n",
       "<style scoped>\n",
       "    .dataframe tbody tr th:only-of-type {\n",
       "        vertical-align: middle;\n",
       "    }\n",
       "\n",
       "    .dataframe tbody tr th {\n",
       "        vertical-align: top;\n",
       "    }\n",
       "\n",
       "    .dataframe thead th {\n",
       "        text-align: right;\n",
       "    }\n",
       "</style>\n",
       "<table border=\"1\" class=\"dataframe\">\n",
       "  <thead>\n",
       "    <tr style=\"text-align: right;\">\n",
       "      <th></th>\n",
       "      <th>agent 1</th>\n",
       "      <th>agent 2</th>\n",
       "      <th>agent 3</th>\n",
       "    </tr>\n",
       "  </thead>\n",
       "  <tbody>\n",
       "    <tr>\n",
       "      <th>0</th>\n",
       "      <td>100.562346</td>\n",
       "      <td>118.413708</td>\n",
       "      <td>69.645420</td>\n",
       "    </tr>\n",
       "    <tr>\n",
       "      <th>1</th>\n",
       "      <td>90.561737</td>\n",
       "      <td>127.785001</td>\n",
       "      <td>59.934644</td>\n",
       "    </tr>\n",
       "    <tr>\n",
       "      <th>2</th>\n",
       "      <td>105.661504</td>\n",
       "      <td>127.067192</td>\n",
       "      <td>62.620640</td>\n",
       "    </tr>\n",
       "    <tr>\n",
       "      <th>3</th>\n",
       "      <td>83.550130</td>\n",
       "      <td>99.969414</td>\n",
       "      <td>66.662657</td>\n",
       "    </tr>\n",
       "    <tr>\n",
       "      <th>4</th>\n",
       "      <td>109.387156</td>\n",
       "      <td>117.012362</td>\n",
       "      <td>70.716987</td>\n",
       "    </tr>\n",
       "    <tr>\n",
       "      <th>...</th>\n",
       "      <td>...</td>\n",
       "      <td>...</td>\n",
       "      <td>...</td>\n",
       "    </tr>\n",
       "    <tr>\n",
       "      <th>95</th>\n",
       "      <td>92.104623</td>\n",
       "      <td>121.230595</td>\n",
       "      <td>73.212836</td>\n",
       "    </tr>\n",
       "    <tr>\n",
       "      <th>96</th>\n",
       "      <td>92.707108</td>\n",
       "      <td>97.867132</td>\n",
       "      <td>73.556773</td>\n",
       "    </tr>\n",
       "    <tr>\n",
       "      <th>97</th>\n",
       "      <td>104.521927</td>\n",
       "      <td>157.685350</td>\n",
       "      <td>79.867146</td>\n",
       "    </tr>\n",
       "    <tr>\n",
       "      <th>98</th>\n",
       "      <td>100.274658</td>\n",
       "      <td>118.708218</td>\n",
       "      <td>78.231346</td>\n",
       "    </tr>\n",
       "    <tr>\n",
       "      <th>99</th>\n",
       "      <td>115.204242</td>\n",
       "      <td>144.422399</td>\n",
       "      <td>64.535432</td>\n",
       "    </tr>\n",
       "  </tbody>\n",
       "</table>\n",
       "<p>100 rows × 3 columns</p>\n",
       "</div>"
      ],
      "text/plain": [
       "       agent 1     agent 2    agent 3\n",
       "0   100.562346  118.413708  69.645420\n",
       "1    90.561737  127.785001  59.934644\n",
       "2   105.661504  127.067192  62.620640\n",
       "3    83.550130   99.969414  66.662657\n",
       "4   109.387156  117.012362  70.716987\n",
       "..         ...         ...        ...\n",
       "95   92.104623  121.230595  73.212836\n",
       "96   92.707108   97.867132  73.556773\n",
       "97  104.521927  157.685350  79.867146\n",
       "98  100.274658  118.708218  78.231346\n",
       "99  115.204242  144.422399  64.535432\n",
       "\n",
       "[100 rows x 3 columns]"
      ]
     },
     "execution_count": 11,
     "metadata": {},
     "output_type": "execute_result"
    }
   ],
   "source": [
    "# create data for n = 10 and N = 100 replications, so we can compare distributions.\n",
    "N = 100\n",
    "performance = {\n",
    "    \"agent 1\" : np.add(100, np.random.normal(loc = 0, scale = 10, size = N)),\n",
    "    \"agent 2\" : np.add(120, np.random.normal(loc = 0, scale = 20, size = N)),\n",
    "    \"agent 3\" : np.add(70,  np.random.normal(loc = 0, scale =  5, size = N))\n",
    "}\n",
    "\n",
    "# show data as a data frame using pandas\n",
    "df = pd.DataFrame(performance)\n",
    "df"
   ]
  },
  {
   "cell_type": "markdown",
   "metadata": {},
   "source": [
    "## Charts \n",
    "\n",
    "### Line plot\n",
    "\n",
    "Plot run time as a function of problem size $n = 1, ..., $"
   ]
  },
  {
   "cell_type": "code",
   "execution_count": null,
   "metadata": {},
   "outputs": [],
   "source": []
  },
  {
   "cell_type": "code",
   "execution_count": 12,
   "metadata": {},
   "outputs": [
    {
     "data": {
      "image/png": "[encoded data removed]",
      "text/plain": [
       "<Figure size 432x288 with 1 Axes>"
      ]
     },
     "metadata": {
      "needs_background": "light"
     },
     "output_type": "display_data"
    }
   ],
   "source": [
    "x = range(N)\n",
    "plt.plot(x, runtime[\"agent 1\"], label = \"agent1\") \n",
    "plt.plot(x, runtime[\"agent 2\"], label = \"agent2\") \n",
    "plt.plot(x, runtime[\"agent 3\"], label = \"agent3\") \n",
    "plt.xlabel(\"Problem size\")\n",
    "plt.ylabel(\"Run time in seconds\")\n",
    "plt.legend()\n",
    "plt.show()"
   ]
  },
  {
   "cell_type": "markdown",
   "metadata": {},
   "source": [
    "### Scatter plot\n",
    "\n",
    "Compare $N$ runs of a fixed problem size of $n=10$."
   ]
  },
  {
   "cell_type": "code",
   "execution_count": 13,
   "metadata": {
    "scrolled": true
   },
   "outputs": [
    {
     "data": {
      "image/png": "[encoded data removed]",
      "text/plain": [
       "<Figure size 432x288 with 1 Axes>"
      ]
     },
     "metadata": {
      "needs_background": "light"
     },
     "output_type": "display_data"
    }
   ],
   "source": [
    "plt.scatter(performance[\"agent 1\"], performance[\"agent 2\"]) \n",
    "plt.xlabel(\"performance agent 1\")\n",
    "plt.ylabel(\"performance agent 2\")\n",
    "plt.show()"
   ]
  },
  {
   "cell_type": "markdown",
   "metadata": {},
   "source": [
    "### Bar plot\n",
    "\n",
    "Compare the average performance performance."
   ]
  },
  {
   "cell_type": "code",
   "execution_count": 14,
   "metadata": {},
   "outputs": [
    {
     "name": "stdout",
     "output_type": "stream",
     "text": [
      "Mean performance: [ 99.74651626 120.12838023  70.4278374 ]\n"
     ]
    },
    {
     "data": {
      "image/png": "[encoded data removed]",
      "text/plain": [
       "<Figure size 432x288 with 1 Axes>"
      ]
     },
     "metadata": {
      "needs_background": "light"
     },
     "output_type": "display_data"
    }
   ],
   "source": [
    "mean_performance = np.mean(list(performance.values()), axis = 1)\n",
    "\n",
    "print(f\"Mean performance: {mean_performance}\")\n",
    "\n",
    "plt.bar(performance.keys(), mean_performance)\n",
    "plt.ylabel(\"mean performance\")\n",
    "plt.show()"
   ]
  },
  {
   "cell_type": "markdown",
   "metadata": {},
   "source": [
    "### Histogram\n",
    "\n",
    "Show the distribution of the performance."
   ]
  },
  {
   "cell_type": "code",
   "execution_count": 15,
   "metadata": {},
   "outputs": [
    {
     "data": {
      "image/png": "[encoded data removed]",
      "text/plain": [
       "<Figure size 432x288 with 1 Axes>"
      ]
     },
     "metadata": {
      "needs_background": "light"
     },
     "output_type": "display_data"
    }
   ],
   "source": [
    "plt.hist(performance[\"agent 1\"], bins = 20)\n",
    "plt.xlabel(\"performance of agent 1\")\n",
    "plt.ylabel(\"frequency\")\n",
    "plt.show()"
   ]
  },
  {
   "cell_type": "code",
   "execution_count": 16,
   "metadata": {},
   "outputs": [
    {
     "data": {
      "image/png": "[encoded data removed]",
      "text/plain": [
       "<Figure size 432x288 with 1 Axes>"
      ]
     },
     "metadata": {
      "needs_background": "light"
     },
     "output_type": "display_data"
    }
   ],
   "source": [
    "plt.hist(performance[\"agent 1\"], bins = 20, alpha = .5)\n",
    "plt.hist(performance[\"agent 2\"], bins = 20, alpha = .5)\n",
    "plt.hist(performance[\"agent 3\"], bins = 20, alpha = .5)\n",
    "plt.xlabel(\"performance\")\n",
    "plt.ylabel(\"frequency\")\n",
    "plt.legend(labels = [\"agent 1\", \"agent 2\", \"agent 3\"])\n",
    "plt.show()"
   ]
  },
  {
   "cell_type": "markdown",
   "metadata": {},
   "source": [
    "### Boxplot\n",
    "\n",
    "To compare distributions."
   ]
  },
  {
   "cell_type": "code",
   "execution_count": 17,
   "metadata": {},
   "outputs": [
    {
     "data": {
      "image/png": "[encoded data removed]",
      "text/plain": [
       "<Figure size 432x288 with 1 Axes>"
      ]
     },
     "metadata": {
      "needs_background": "light"
     },
     "output_type": "display_data"
    }
   ],
   "source": [
    "bplot = plt.boxplot(list(performance.values()),\n",
    "                     vert = True,                  # vertical box alignment\n",
    "                     patch_artist = True,          # fill with color\n",
    "                     labels = performance.keys())  # will be used to label x-ticks\n",
    "plt.ylabel(\"performance\")\n",
    "plt.show()"
   ]
  },
  {
   "cell_type": "markdown",
   "metadata": {},
   "source": [
    "## Show Tables\n",
    "\n",
    "Markdown tables can be produced using markdown syntax (see https://www.markdownguide.org/extended-syntax/):\n",
    "\n",
    "```\n",
    "| x   | y    |\n",
    "| --- | ---- |\n",
    "| 1.1 | 12.3 |\n",
    "| 0.8 | 18.0 |\n",
    "```\n",
    "\n",
    "Here is the resulting table\n",
    "\n",
    "| x   | y    |\n",
    "| --- | ---- |\n",
    "| 1.1 | 12.3 |\n",
    "| 0.8 | 18.0 |"
   ]
  },
  {
   "cell_type": "markdown",
   "metadata": {},
   "source": [
    "Tables in code can be printed in several ways. The easiest is to use `pandas` dataframes. Unfortunately, it cannot print custom row names."
   ]
  },
  {
   "cell_type": "code",
   "execution_count": 18,
   "metadata": {},
   "outputs": [
    {
     "name": "stdout",
     "output_type": "stream",
     "text": [
      "[[1 2]\n",
      " [3 4]\n",
      " [5 6]]\n"
     ]
    }
   ],
   "source": [
    "import numpy as np\n",
    "\n",
    "data = np.array([[1, 2], [3 ,4], [5, 6]])\n",
    "\n",
    "print(data)\n",
    "\n"
   ]
  },
  {
   "cell_type": "code",
   "execution_count": 19,
   "metadata": {},
   "outputs": [
    {
     "data": {
      "text/html": [
       "<div>\n",
       "<style scoped>\n",
       "    .dataframe tbody tr th:only-of-type {\n",
       "        vertical-align: middle;\n",
       "    }\n",
       "\n",
       "    .dataframe tbody tr th {\n",
       "        vertical-align: top;\n",
       "    }\n",
       "\n",
       "    .dataframe thead th {\n",
       "        text-align: right;\n",
       "    }\n",
       "</style>\n",
       "<table border=\"1\" class=\"dataframe\">\n",
       "  <thead>\n",
       "    <tr style=\"text-align: right;\">\n",
       "      <th></th>\n",
       "      <th>x</th>\n",
       "      <th>y</th>\n",
       "    </tr>\n",
       "  </thead>\n",
       "  <tbody>\n",
       "    <tr>\n",
       "      <th>0</th>\n",
       "      <td>1</td>\n",
       "      <td>2</td>\n",
       "    </tr>\n",
       "    <tr>\n",
       "      <th>1</th>\n",
       "      <td>3</td>\n",
       "      <td>4</td>\n",
       "    </tr>\n",
       "    <tr>\n",
       "      <th>2</th>\n",
       "      <td>5</td>\n",
       "      <td>6</td>\n",
       "    </tr>\n",
       "  </tbody>\n",
       "</table>\n",
       "</div>"
      ],
      "text/plain": [
       "   x  y\n",
       "0  1  2\n",
       "1  3  4\n",
       "2  5  6"
      ]
     },
     "execution_count": 19,
     "metadata": {},
     "output_type": "execute_result"
    }
   ],
   "source": [
    "import pandas as pd\n",
    "pd.DataFrame(data, columns=[\"x\", \"y\"])"
   ]
  }
 ],
 "metadata": {
  "kernelspec": {
   "display_name": "Python 3",
   "language": "python",
   "name": "python3"
  },
  "language_info": {
   "codemirror_mode": {
    "name": "ipython",
    "version": 3
   },
   "file_extension": ".py",
   "mimetype": "text/x-python",
   "name": "python",
   "nbconvert_exporter": "python",
   "pygments_lexer": "ipython3",
   "version": "3.8.5"
  }
 },
 "nbformat": 4,
 "nbformat_minor": 4
}
